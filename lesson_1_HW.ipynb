{
  "nbformat": 4,
  "nbformat_minor": 0,
  "metadata": {
    "colab": {
      "name": "lesson_1_HW.ipynb",
      "provenance": [],
      "collapsed_sections": [],
      "authorship_tag": "ABX9TyNFgASpAtgeoC0te0b1Z0xz",
      "include_colab_link": true
    },
    "kernelspec": {
      "name": "python3",
      "display_name": "Python 3"
    },
    "language_info": {
      "name": "python"
    }
  },
  "cells": [
    {
      "cell_type": "markdown",
      "metadata": {
        "id": "view-in-github",
        "colab_type": "text"
      },
      "source": [
        "<a href=\"https://colab.research.google.com/github/botkin92/Data_analysis_algorithms/blob/lesson_1/lesson_1_HW.ipynb\" target=\"_parent\"><img src=\"https://colab.research.google.com/assets/colab-badge.svg\" alt=\"Open In Colab\"/></a>"
      ]
    },
    {
      "cell_type": "code",
      "metadata": {
        "id": "dlZqCxSugglS"
      },
      "source": [
        "import numpy as np\n",
        "import matplotlib.pyplot as plt"
      ],
      "execution_count": 11,
      "outputs": []
    },
    {
      "cell_type": "markdown",
      "metadata": {
        "id": "PS5C49vtX4Gq"
      },
      "source": [
        "__Задача:__ предсказание баллов ЕГЭ ученика в зависимости от кол-ва лет стажа его репетитора"
      ]
    },
    {
      "cell_type": "markdown",
      "metadata": {
        "id": "huXrhXQsZTMt"
      },
      "source": [
        "1. Подберите скорость обучения (alpha) и количество итераций"
      ]
    },
    {
      "cell_type": "code",
      "metadata": {
        "id": "rYFg03TSgjAu"
      },
      "source": [
        "X = np.array([[1, 1, 1, 1, 1, 1, 1, 1, 1, 1],\n",
        "              [1, 1, 2, 5, 3, 0, 5, 10, 1, 2]])\n",
        "y = [45, 55, 50, 55, 60, 35, 75, 80, 50, 60]"
      ],
      "execution_count": 12,
      "outputs": []
    },
    {
      "cell_type": "code",
      "metadata": {
        "id": "poPS3MD85ooW"
      },
      "source": [
        "def calc_mse(y, y_pred):\n",
        "    err = np.mean((y - y_pred)**2) # <=> 1/n * np.sum((y_pred - y)**2)\n",
        "    return err"
      ],
      "execution_count": 13,
      "outputs": []
    },
    {
      "cell_type": "code",
      "metadata": {
        "colab": {
          "base_uri": "https://localhost:8080/"
        },
        "id": "IDB22MQKMYaJ",
        "outputId": "cb42ab68-715b-4e37-deb8-c0f3dbe5b5ff"
      },
      "source": [
        "n = X.shape[1]\n",
        "alpha = 0.01\n",
        "W = np.array([1, 0.5])\n",
        "print(f'Number of objects = {n} \\\n",
        "       \\nLearning rate = {alpha} \\\n",
        "       \\nInitial weights = {W} \\n')\n",
        "\n",
        "for i in range(101):\n",
        "    y_pred = np.dot(W, X)\n",
        "    err = calc_mse(y, y_pred)\n",
        "    for k in range(len(W)):\n",
        "        W[k] -= alpha * (1/n * 2 * np.sum(X[k] * (y_pred - y)))\n",
        "    if i % 10 == 0:\n",
        "        alpha /= 1.1\n",
        "        print(f'Iteration #{i}: W_new = {W}, MSE = {round(err,2)}')"
      ],
      "execution_count": 28,
      "outputs": [
        {
          "output_type": "stream",
          "name": "stdout",
          "text": [
            "Number of objects = 10        \n",
            "Learning rate = 0.01        \n",
            "Initial weights = [1.  0.5] \n",
            "\n",
            "Iteration #0: W_new = [2.08 4.27], MSE = 3047.75\n",
            "Iteration #10: W_new = [ 6.67106886 10.61676385], MSE = 749.71\n",
            "Iteration #20: W_new = [ 9.49320908 10.25731657], MSE = 648.91\n",
            "Iteration #30: W_new = [11.85740092  9.83349244], MSE = 570.46\n",
            "Iteration #40: W_new = [13.86876921  9.46898661], MSE = 508.03\n",
            "Iteration #50: W_new = [15.59085668  9.15672679], MSE = 457.73\n",
            "Iteration #60: W_new = [17.07337653  8.88789585], MSE = 416.77\n",
            "Iteration #70: W_new = [18.35601294  8.65530964], MSE = 383.06\n",
            "Iteration #80: W_new = [19.47073522  8.45317196], MSE = 355.08\n",
            "Iteration #90: W_new = [20.44350656  8.27677488], MSE = 331.65\n",
            "Iteration #100: W_new = [21.29557245  8.12226587], MSE = 311.9\n"
          ]
        }
      ]
    },
    {
      "cell_type": "code",
      "metadata": {
        "id": "POWy39W1KmTQ"
      },
      "source": [
        "# Базовый вариант. Видно, что 100 итерация недостаточно для корректной оценки - MSE продолжает снижаться. Добавим еще 100.\n",
        "# Number of objects = 10        \n",
        "# Learning rate = 0.01        \n",
        "# Initial weights = [1.  0.5] \n",
        "\n",
        "# Iteration #0: W_new = [2.08 4.27], MSE = 3047.75\n",
        "# Iteration #10: W_new = [ 6.67106886 10.61676385], MSE = 749.71\n",
        "# Iteration #20: W_new = [ 9.49320908 10.25731657], MSE = 648.91\n",
        "# Iteration #30: W_new = [11.85740092  9.83349244], MSE = 570.46\n",
        "# Iteration #40: W_new = [13.86876921  9.46898661], MSE = 508.03\n",
        "# Iteration #50: W_new = [15.59085668  9.15672679], MSE = 457.73\n",
        "# Iteration #60: W_new = [17.07337653  8.88789585], MSE = 416.77\n",
        "# Iteration #70: W_new = [18.35601294  8.65530964], MSE = 383.06\n",
        "# Iteration #80: W_new = [19.47073522  8.45317196], MSE = 355.08\n",
        "# Iteration #90: W_new = [20.44350656  8.27677488], MSE = 331.65"
      ],
      "execution_count": 15,
      "outputs": []
    },
    {
      "cell_type": "code",
      "metadata": {
        "id": "g3NJYLKILMxV"
      },
      "source": [
        "# Number of objects = 10        \n",
        "# Learning rate = 0.001        \n",
        "# Initial weights = [1.  0.5] \n",
        "\n",
        "# Iteration #0: W_new = [1.108 0.877], MSE = 3047.75\n",
        "# Iteration #10: W_new = [1.98538229 3.73754631], MSE = 1991.2\n",
        "# Iteration #20: W_new = [2.65151474 5.62717924], MSE = 1473.64\n",
        "# Iteration #30: W_new = [3.17602393 6.90966203], MSE = 1203.1\n",
        "# Iteration #40: W_new = [3.60140403 7.80143614], MSE = 1052.67\n",
        "# Iteration #50: W_new = [3.95459332 8.43516509], MSE = 963.95\n",
        "# Iteration #60: W_new = [4.25330617 8.89440055], MSE = 908.59\n",
        "# Iteration #70: W_new = [4.50960937 9.23308795], MSE = 872.15\n",
        "# Iteration #80: W_new = [4.73200372 9.48685965], MSE = 846.97\n",
        "# Iteration #90: W_new = [4.9266705  9.67974823], MSE = 828.76\n",
        "# Iteration #100: W_new = [5.09823829 9.82827603], MSE = 815.07\n",
        "# Iteration #110: W_new = [5.25026691 9.94400351], MSE = 804.43\n",
        "# Iteration #120: W_new = [ 5.38556058 10.03515101], MSE = 795.91\n",
        "# Iteration #130: W_new = [ 5.50637544 10.10765119], MSE = 788.93\n",
        "# Iteration #140: W_new = [ 5.61456026 10.16584453], MSE = 783.11\n",
        "# Iteration #150: W_new = [ 5.71165399 10.21294686], MSE = 778.17\n",
        "# Iteration #160: W_new = [ 5.798955   10.25136856], MSE = 773.93\n",
        "# Iteration #170: W_new = [ 5.87757107 10.28293577], MSE = 770.25\n",
        "# Iteration #180: W_new = [ 5.94845646 10.30904582], MSE = 767.04\n",
        "# Iteration #190: W_new = [ 6.0124397  10.33077779], MSE = 764.21\n",
        "# Iteration #200: W_new = [ 6.07024503 10.34897217], MSE = 761.71"
      ],
      "execution_count": 16,
      "outputs": []
    },
    {
      "cell_type": "code",
      "metadata": {
        "id": "AgMjVEfi6LSY"
      },
      "source": [
        "# Number of objects = 10        \n",
        "# Learning rate = 0.01        \n",
        "# Initial weights = [1.  0.5] \n",
        "\n",
        "# Iteration #0: W_new = [2.08 4.27], MSE = 3047.75\n",
        "# Iteration #10: W_new = [ 6.67106886 10.61676385], MSE = 749.71\n",
        "# Iteration #20: W_new = [ 9.49320908 10.25731657], MSE = 648.91\n",
        "# Iteration #30: W_new = [11.85740092  9.83349244], MSE = 570.46\n",
        "# Iteration #40: W_new = [13.86876921  9.46898661], MSE = 508.03\n",
        "# Iteration #50: W_new = [15.59085668  9.15672679], MSE = 457.73\n",
        "# Iteration #60: W_new = [17.07337653  8.88789585], MSE = 416.77\n",
        "# Iteration #70: W_new = [18.35601294  8.65530964], MSE = 383.06\n",
        "# Iteration #80: W_new = [19.47073522  8.45317196], MSE = 355.08\n",
        "# Iteration #90: W_new = [20.44350656  8.27677488], MSE = 331.65\n",
        "# Iteration #100: W_new = [21.29557245  8.12226587], MSE = 311.9\n",
        "# Iteration #110: W_new = [22.044442    7.98646992], MSE = 295.12\n",
        "# Iteration #120: W_new = [22.7046421   7.86675281], MSE = 280.78\n",
        "# Iteration #130: W_new = [23.2883015   7.76091518], MSE = 268.46\n",
        "# Iteration #140: W_new = [23.80560705  7.66710979], MSE = 257.81\n",
        "# Iteration #150: W_new = [24.26516249  7.5837765 ], MSE = 248.58\n",
        "# Iteration #160: W_new = [24.67427278  7.50959066], MSE = 240.53\n",
        "# Iteration #170: W_new = [25.03917079  7.44342203], MSE = 233.49\n",
        "# Iteration #180: W_new = [25.36519943  7.38430176], MSE = 227.31\n",
        "# Iteration #190: W_new = [25.65695861  7.33139573], MSE = 221.86\n",
        "# Iteration #200: W_new = [25.91842478  7.28398287], MSE = 217.05"
      ],
      "execution_count": 17,
      "outputs": []
    },
    {
      "cell_type": "code",
      "metadata": {
        "id": "Z1tHcAefLmpB"
      },
      "source": [
        "# Number of objects = 10        \n",
        "# Learning rate = 0.05        \n",
        "# Initial weights = [1.  0.5] \n",
        "\n",
        "# Iteration #0: W_new = [ 6.4  19.35], MSE = 3047.75\n",
        "# Iteration #10: W_new = [18.77319138  8.6270072 ], MSE = 398.58\n",
        "# Iteration #20: W_new = [27.15289315  7.06014716], MSE = 207.1\n",
        "# Iteration #30: W_new = [32.4241672   6.10426679], MSE = 124.63\n",
        "# Iteration #40: W_new = [35.85213314  5.48265802], MSE = 86.53\n",
        "# Iteration #50: W_new = [38.15155609  5.06569312], MSE = 67.79\n",
        "# Iteration #60: W_new = [39.73790007  4.7780341 ], MSE = 58.04\n",
        "# Iteration #70: W_new = [40.86051023  4.57446606], MSE = 52.69\n",
        "# Iteration #80: W_new = [41.67349173  4.4270444 ], MSE = 49.62\n",
        "# Iteration #90: W_new = [42.2746909  4.3180262], MSE = 47.78\n",
        "# Iteration #100: W_new = [42.727794    4.23586294], MSE = 46.63\n",
        "# Iteration #110: W_new = [43.07521157  4.17286412], MSE = 45.89\n",
        "# Iteration #120: W_new = [43.34578807  4.12379924], MSE = 45.4\n",
        "# Iteration #130: W_new = [43.55952748  4.08504089], MSE = 45.06\n",
        "# Iteration #140: W_new = [43.73055537  4.05402762], MSE = 44.82\n",
        "# Iteration #150: W_new = [43.8690146   4.02892018], MSE = 44.65\n",
        "# Iteration #160: W_new = [43.9823022   4.00837722], MSE = 44.53\n",
        "# Iteration #170: W_new = [44.0758912   3.99140629], MSE = 44.44\n",
        "# Iteration #180: W_new = [44.15388587  3.97726316], MSE = 44.36\n",
        "# Iteration #190: W_new = [44.21940291  3.96538266], MSE = 44.31\n",
        "# Iteration #200: W_new = [44.27483692  3.95533056], MSE = 44.26"
      ],
      "execution_count": 18,
      "outputs": []
    },
    {
      "cell_type": "code",
      "metadata": {
        "id": "dg0kBo0B6Wmg"
      },
      "source": [
        "# Number of objects = 10        \n",
        "# Learning rate = 0.1        \n",
        "# Initial weights = [1.  0.5] \n",
        "\n",
        "# Iteration #0: W_new = [11.8 38.2], MSE = 3047.75\n",
        "# Iteration #10: W_new = [12651.73553914 69617.0969639 ], MSE = 18310954068.05\n",
        "# Iteration #20: W_new = [ 7732434.81888022 42641607.3785219 ], MSE = 9128819654907584.0\n",
        "# Iteration #30: W_new = [1.06344502e+09 5.86454589e+09], MSE = 2.3279203642668515e+20\n",
        "# Iteration #40: W_new = [3.00127077e+10 1.65510116e+11], MSE = 2.5451335298159486e+23\n",
        "# Iteration #50: W_new = [1.55345341e+11 8.56677968e+11], MSE = 9.572295620500124e+24\n",
        "# Iteration #60: W_new = [1.27742291e+11 7.04456313e+11], MSE = 9.351480126476035e+24\n",
        "# Iteration #70: W_new = [1.38141953e+10 7.61806995e+10], MSE = 1.6408589528283986e+23\n",
        "# Iteration #80: W_new = [1.51674189e+08 8.36432543e+08], MSE = 3.125533537874479e+19\n",
        "# Iteration #90: W_new = [116395.49978363 641638.79866064], MSE = 31317286806394.58\n",
        "# Iteration #100: W_new = [48.41959619 22.99885147], MSE = 53518.86\n",
        "# Iteration #110: W_new = [44.97711111  3.82799209], MSE = 43.97\n",
        "# Iteration #120: W_new = [44.99891751  3.8240297 ], MSE = 43.97\n",
        "# Iteration #130: W_new = [45.01385183  3.8213216 ], MSE = 43.97\n",
        "# Iteration #140: W_new = [45.02434994  3.81941793], MSE = 43.97\n",
        "# Iteration #150: W_new = [45.03190658  3.81804765], MSE = 43.97\n",
        "# Iteration #160: W_new = [45.03746405  3.81703988], MSE = 43.97\n",
        "# Iteration #170: W_new = [45.04163168  3.81628415], MSE = 43.97\n",
        "# Iteration #180: W_new = [45.04481278  3.8157073 ], MSE = 43.97\n",
        "# Iteration #190: W_new = [45.04728014  3.81525989], MSE = 43.97\n",
        "# Iteration #200: W_new = [45.04922195  3.81490777], MSE = 43.97"
      ],
      "execution_count": 19,
      "outputs": []
    },
    {
      "cell_type": "code",
      "metadata": {
        "id": "vcHmshrFPd-n"
      },
      "source": [
        "# Number of objects = 10        \n",
        "# Learning rate = 0.5        \n",
        "# Initial weights = [1.  0.5] \n",
        "\n",
        "# Iteration #0: W_new = [ 55. 189.], MSE = 3047.75\n",
        "# Iteration #10: W_new = [1.82976745e+13 1.00905598e+14], MSE = 8.256201376654768e+26\n",
        "# Iteration #20: W_new = [3.67678895e+24 2.02762701e+25], MSE = 4.088284311618706e+49\n",
        "# Iteration #30: W_new = [2.64437460e+35 1.45828478e+36], MSE = 2.5971279572063697e+71\n",
        "# Iteration #40: W_new = [6.75227340e+45 3.72365455e+46], MSE = 2.083017295846756e+92\n",
        "# Iteration #50: W_new = [6.06632820e+55 3.34537855e+56], MSE = 2.0719290321953742e+112\n",
        "# Iteration #60: W_new = [1.89825428e+65 1.04682420e+66], MSE = 2.5051937982830745e+131\n",
        "# Iteration #70: W_new = [2.04550264e+74 1.12802678e+75], MSE = 3.6002213596418622e+149\n",
        "# Iteration #80: W_new = [7.49392692e+82 4.13265184e+83], MSE = 5.995912311860424e+166\n",
        "# Iteration #90: W_new = [9.20063444e+90 5.07384435e+91], MSE = 1.1246881878318142e+183\n",
        "# Iteration #100: W_new = [3.72423510e+98 2.05379198e+99], MSE = 2.3006394449650682e+198\n",
        "# Iteration #110: W_new = [4.87889998e+105 2.69055132e+106], MSE = 4.9477199726452574e+212\n",
        "# Iteration #120: W_new = [2.02537659e+112 1.11692793e+113], MSE = 1.0729835025127608e+226\n",
        "# Iteration #130: W_new = [2.60076211e+118 1.43423394e+119], MSE = 2.2371779876633398e+238\n",
        "# Iteration #140: W_new = [1.00472632e+124 5.54073201e+124], MSE = 4.2454563301040504e+249\n",
        "# Iteration #150: W_new = [1.13085018e+129 6.23626323e+129], MSE = 6.88266980351503e+259\n",
        "# Iteration #160: W_new = [3.57230122e+133 1.97000549e+134], MSE = 8.855351253850696e+268\n",
        "# Iteration #170: W_new = [3.03147335e+137 1.67175688e+138], MSE = 8.294393194295694e+276\n",
        "# Iteration #180: W_new = [6.56175108e+140 3.61858782e+141], MSE = 5.107219821673891e+283\n",
        "# Iteration #190: W_new = [3.40524118e+143 1.87787743e+144], MSE = 1.8301571229590894e+289\n",
        "# Iteration #200: W_new = [3.93079066e+145 2.16770051e+146], MSE = 3.2939095635056356e+293"
      ],
      "execution_count": 20,
      "outputs": []
    },
    {
      "cell_type": "markdown",
      "metadata": {
        "id": "6CXV24bcQ5Wg"
      },
      "source": [
        "Наименьший MSE получилось при шаге 0.1, при этом вариант с шагом 0.05 достаточно схож. Проверим этот вариант (с 0.1) для других начальных весов W."
      ]
    },
    {
      "cell_type": "code",
      "metadata": {
        "colab": {
          "base_uri": "https://localhost:8080/"
        },
        "id": "tEU1ZtCyS-RN",
        "outputId": "b530e2f5-4d17-490b-b92f-d55174cbd146"
      },
      "source": [
        "n = X.shape[1]\n",
        "alpha = 0.1\n",
        "W = np.array([1, 0])\n",
        "print(f'Number of objects = {n} \\\n",
        "       \\nLearning rate = {alpha} \\\n",
        "       \\nInitial weights = {W} \\n')\n",
        "\n",
        "for i in range(201):\n",
        "    y_pred = np.dot(W, X)\n",
        "    err = calc_mse(y, y_pred)\n",
        "    for k in range(len(W)):\n",
        "        W[k] -= alpha * (1/n * 2 * np.sum(X[k] * (y_pred - y)))\n",
        "    if i % 10 == 0:\n",
        "        alpha /= 1.1\n",
        "        print(f'Iteration #{i}: W_new = {W}, MSE = {round(err,2)}')"
      ],
      "execution_count": 29,
      "outputs": [
        {
          "output_type": "stream",
          "name": "stdout",
          "text": [
            "Number of objects = 10        \n",
            "Learning rate = 0.1        \n",
            "Initial weights = [1 0] \n",
            "\n",
            "Iteration #0: W_new = [12 39], MSE = 3240.5\n",
            "Iteration #10: W_new = [12756 70197], MSE = 18617342314.5\n",
            "Iteration #20: W_new = [ 7796783 42996471], MSE = 9281392104076688.0\n",
            "Iteration #30: W_new = [1072294985 5913350532], MSE = 2.409091081586225e+18\n",
            "Iteration #40: W_new = [ 30262472905 166887488140], MSE = 5.387866275228035e+18\n",
            "Iteration #50: W_new = [156638122230 863807226712], MSE = 4.2138168818740495e+18\n",
            "Iteration #60: W_new = [128805360032 710318786030], MSE = 5.913934304657183e+17\n",
            "Iteration #70: W_new = [13929156798 76814673843], MSE = 5.168718595671144e+18\n",
            "Iteration #80: W_new = [152936418 843393317], MSE = 4.1824762209913114e+17\n",
            "Iteration #90: W_new = [117365 646977], MSE = 31840647651616.5\n",
            "Iteration #100: W_new = [49 22], MSE = 52280.5\n",
            "Iteration #110: W_new = [44  4], MSE = 44.5\n",
            "Iteration #120: W_new = [44  4], MSE = 44.5\n",
            "Iteration #130: W_new = [44  4], MSE = 44.5\n",
            "Iteration #140: W_new = [44  4], MSE = 44.5\n",
            "Iteration #150: W_new = [44  4], MSE = 44.5\n",
            "Iteration #160: W_new = [44  4], MSE = 44.5\n",
            "Iteration #170: W_new = [44  4], MSE = 44.5\n",
            "Iteration #180: W_new = [44  4], MSE = 44.5\n",
            "Iteration #190: W_new = [44  4], MSE = 44.5\n",
            "Iteration #200: W_new = [44  4], MSE = 44.5\n"
          ]
        }
      ]
    },
    {
      "cell_type": "code",
      "metadata": {
        "id": "SnLJkjKnTiWc"
      },
      "source": [
        "# Number of objects = 10        \n",
        "# Learning rate = 0.1        \n",
        "# Initial weights = [1 0] \n",
        "\n",
        "# Iteration #0: W_new = [12 39], MSE = 3240.5\n",
        "# Iteration #10: W_new = [12756 70197], MSE = 18617342314.5\n",
        "# Iteration #20: W_new = [ 7796783 42996471], MSE = 9281392104076688.0\n",
        "# Iteration #30: W_new = [1072294985 5913350532], MSE = 2.409091081586225e+18\n",
        "# Iteration #40: W_new = [ 30262472905 166887488140], MSE = 5.387866275228035e+18\n",
        "# Iteration #50: W_new = [156638122230 863807226712], MSE = 4.2138168818740495e+18\n",
        "# Iteration #60: W_new = [128805360032 710318786030], MSE = 5.913934304657183e+17\n",
        "# Iteration #70: W_new = [13929156798 76814673843], MSE = 5.168718595671144e+18\n",
        "# Iteration #80: W_new = [152936418 843393317], MSE = 4.1824762209913114e+17\n",
        "# Iteration #90: W_new = [117365 646977], MSE = 31840647651616.5\n",
        "# Iteration #100: W_new = [49 22], MSE = 52280.5\n",
        "# Iteration #110: W_new = [44  4], MSE = 44.5\n",
        "# Iteration #120: W_new = [44  4], MSE = 44.5\n",
        "# Iteration #130: W_new = [44  4], MSE = 44.5\n",
        "# Iteration #140: W_new = [44  4], MSE = 44.5\n",
        "# Iteration #150: W_new = [44  4], MSE = 44.5\n",
        "# Iteration #160: W_new = [44  4], MSE = 44.5\n",
        "# Iteration #170: W_new = [44  4], MSE = 44.5\n",
        "# Iteration #180: W_new = [44  4], MSE = 44.5\n",
        "# Iteration #190: W_new = [44  4], MSE = 44.5\n",
        "# Iteration #200: W_new = [44  4], MSE = 44.5"
      ],
      "execution_count": 22,
      "outputs": []
    },
    {
      "cell_type": "code",
      "metadata": {
        "id": "G3TasQCEV0HS"
      },
      "source": [
        "# Number of objects = 10        \n",
        "# Learning rate = 0.1        \n",
        "# Initial weights = [10 10] \n",
        "\n",
        "# Iteration #0: W_new = [13 10], MSE = 622.5\n",
        "# Iteration #10: W_new = [ 243 1184], MSE = 5241481.5\n",
        "# Iteration #20: W_new = [130757 720874], MSE = 2608923087491.5\n",
        "# Iteration #30: W_new = [17977862 99141712], MSE = 6.652917443529943e+16\n",
        "# Iteration #40: W_new = [ 507372838 2797992481], MSE = 7.945618935033418e+17\n",
        "# Iteration #50: W_new = [ 2626154299 14482368616], MSE = 1.8398062562905956e+18\n",
        "# Iteration #60: W_new = [ 2159517404 11909021101], MSE = -3.923603696547585e+17\n",
        "# Iteration #70: W_new = [ 233532684 1287854961], MSE = -1.0677539779618689e+18\n",
        "# Iteration #80: W_new = [ 2564136 14140116], MSE = 8932398523574122.0\n",
        "# Iteration #90: W_new = [ 2012 10850], MSE = 8948963713.5\n",
        "# Iteration #100: W_new = [43  4], MSE = 69.5\n",
        "# Iteration #110: W_new = [43  4], MSE = 46.5\n",
        "# Iteration #120: W_new = [43  4], MSE = 46.5\n",
        "# Iteration #130: W_new = [43  4], MSE = 46.5\n",
        "# Iteration #140: W_new = [43  4], MSE = 46.5\n",
        "# Iteration #150: W_new = [43  4], MSE = 46.5\n",
        "# Iteration #160: W_new = [43  4], MSE = 46.5\n",
        "# Iteration #170: W_new = [43  4], MSE = 46.5\n",
        "# Iteration #180: W_new = [43  4], MSE = 46.5\n",
        "# Iteration #190: W_new = [43  4], MSE = 46.5\n",
        "# Iteration #200: W_new = [43  4], MSE = 46.5"
      ],
      "execution_count": 23,
      "outputs": []
    },
    {
      "cell_type": "code",
      "metadata": {
        "id": "owq4ht2YV5_s"
      },
      "source": [
        "# Number of objects = 10        \n",
        "# Learning rate = 0.1        \n",
        "# Initial weights = [  0 100] \n",
        "\n",
        "# Iteration #0: W_new = [ -48 -200], MSE = 133352.5\n",
        "# Iteration #10: W_new = [ -97939 -540214], MSE = 1102831123622.5\n",
        "# Iteration #20: W_new = [ -60008344 -330926282], MSE = 5.4980683551266016e+17\n",
        "# Iteration #30: W_new = [ -8253017621 -45512651697], MSE = -4.555647264846653e+18\n",
        "# Iteration #40: W_new = [ -232917933868 -1284465056989], MSE = 4.980623349156749e+17\n",
        "# Iteration #50: W_new = [-1205579859735 -6648372571818], MSE = -9.92980523416506e+17\n",
        "# Iteration #60: W_new = [ -991362419699 -5467034528395], MSE = -2.7222051760627246e+18\n",
        "# Iteration #70: W_new = [-107207049000 -591211273640], MSE = 3.9165537820312627e+18\n",
        "# Iteration #80: W_new = [-1177088968 -6491254999], MSE = -9.78972647093807e+17\n",
        "# Iteration #90: W_new = [ -902911 -4979495], MSE = 1886164333869535.2\n",
        "# Iteration #100: W_new = [  16 -144], MSE = 3210817.5\n",
        "# Iteration #110: W_new = [41  4], MSE = 56.5\n",
        "# Iteration #120: W_new = [41  4], MSE = 56.5\n",
        "# Iteration #130: W_new = [41  4], MSE = 56.5\n",
        "# Iteration #140: W_new = [41  4], MSE = 56.5\n",
        "# Iteration #150: W_new = [41  4], MSE = 56.5\n",
        "# Iteration #160: W_new = [41  4], MSE = 56.5\n",
        "# Iteration #170: W_new = [41  4], MSE = 56.5\n",
        "# Iteration #180: W_new = [41  4], MSE = 56.5\n",
        "# Iteration #190: W_new = [41  4], MSE = 56.5\n",
        "# Iteration #200: W_new = [41  4], MSE = 56.5"
      ],
      "execution_count": 24,
      "outputs": []
    },
    {
      "cell_type": "markdown",
      "metadata": {
        "id": "trBXxnkfV7uM"
      },
      "source": [
        "Результаты изменяются не существенно, такой вариант решения можно назвать, вполне, приемлемым."
      ]
    },
    {
      "cell_type": "markdown",
      "metadata": {
        "id": "UmiITCNcWrDR"
      },
      "source": [
        "*2. В этом коде мы избавляемся от итераций по весам, но тут есть ошибка, исправьте ее"
      ]
    },
    {
      "cell_type": "code",
      "metadata": {
        "colab": {
          "base_uri": "https://localhost:8080/"
        },
        "id": "WZZzDCQLY4pA",
        "outputId": "0bfd5433-0880-4b44-a31c-c0a35c0ac719"
      },
      "source": [
        "# Исходный вариант.\n",
        "n = X.shape[1]\n",
        "alpha = 1e-2\n",
        "W = np.array([1, 0.5])\n",
        "print(f'Number of objects = {n} \\\n",
        "       \\nLearning rate = {alpha} \\\n",
        "       \\nInitial weights = {W} \\n')\n",
        "\n",
        "for i in range(100):\n",
        "    y_pred = np.dot(W, X)\n",
        "    err = calc_mse(y, y_pred)\n",
        "    #for k in range(W.shape[0]):\n",
        "    #     W[k] -= alpha * (1/n * 2 * np.sum(X[k] * (y_pred - y)))\n",
        "    W -= alpha * (1/n * 2 * np.sum(X * (y_pred - y)))\n",
        "    W_pred = W\n",
        "    \n",
        "    if i % 10 == 0:\n",
        "\n",
        "        print(f'Iteration #{i}: W_new = {W}, MSE = {round(err,2)}')"
      ],
      "execution_count": 25,
      "outputs": [
        {
          "output_type": "stream",
          "name": "stdout",
          "text": [
            "Number of objects = 10        \n",
            "Learning rate = 0.01        \n",
            "Initial weights = [1.  0.5] \n",
            "\n",
            "Iteration #0: W_new = [5.85 5.35], MSE = 3047.75\n",
            "Iteration #10: W_new = [11.0965715 10.5965715], MSE = 597.49\n",
            "Iteration #20: W_new = [11.10415569 10.60415569], MSE = 597.49\n",
            "Iteration #30: W_new = [11.10416665 10.60416665], MSE = 597.49\n",
            "Iteration #40: W_new = [11.10416667 10.60416667], MSE = 597.49\n",
            "Iteration #50: W_new = [11.10416667 10.60416667], MSE = 597.49\n",
            "Iteration #60: W_new = [11.10416667 10.60416667], MSE = 597.49\n",
            "Iteration #70: W_new = [11.10416667 10.60416667], MSE = 597.49\n",
            "Iteration #80: W_new = [11.10416667 10.60416667], MSE = 597.49\n",
            "Iteration #90: W_new = [11.10416667 10.60416667], MSE = 597.49\n"
          ]
        }
      ]
    },
    {
      "cell_type": "code",
      "metadata": {
        "colab": {
          "base_uri": "https://localhost:8080/"
        },
        "id": "uXOoolM7W3dQ",
        "outputId": "eb27bf9e-798b-48e8-a468-327bfd0666de"
      },
      "source": [
        "# Исправленный вариант. \n",
        "# Сумму np.sum(X[k] * (y_pred - y)) нужно заменить на матричное произведение.\n",
        "# Изначально массив X задан в непривычном виде, по сути в транспонированном. Поэтому в коде массив не транспонируется. Также пропущена строка 'alpha /= 1.1'\n",
        "n = X.shape[1]\n",
        "alpha = 1e-2\n",
        "W = np.array([1, 0.5])\n",
        "print(f'Number of objects = {n} \\\n",
        "       \\nLearning rate = {alpha} \\\n",
        "       \\nInitial weights = {W} \\n')\n",
        "\n",
        "for i in range(100):\n",
        "    y_pred = np.dot(W, X)\n",
        "    err = calc_mse(y, y_pred)\n",
        "    #for k in range(W.shape[0]):\n",
        "    #     W[k] -= alpha * (1/n * 2 * np.sum(X[k] * (y_pred - y)))\n",
        "    W -= alpha * (1/n * 2 * np.dot(X, (y_pred - y)))\n",
        "    W_pred = W\n",
        "    \n",
        "    if i % 10 == 0:\n",
        "        alpha /= 1.1\n",
        "        print(f'Iteration #{i}: W_new = {W}, MSE = {round(err,2)}')"
      ],
      "execution_count": 26,
      "outputs": [
        {
          "output_type": "stream",
          "name": "stdout",
          "text": [
            "Number of objects = 10        \n",
            "Learning rate = 0.01        \n",
            "Initial weights = [1.  0.5] \n",
            "\n",
            "Iteration #0: W_new = [2.08 4.27], MSE = 3047.75\n",
            "Iteration #10: W_new = [ 6.67106886 10.61676385], MSE = 749.71\n",
            "Iteration #20: W_new = [ 9.49320908 10.25731657], MSE = 648.91\n",
            "Iteration #30: W_new = [11.85740092  9.83349244], MSE = 570.46\n",
            "Iteration #40: W_new = [13.86876921  9.46898661], MSE = 508.03\n",
            "Iteration #50: W_new = [15.59085668  9.15672679], MSE = 457.73\n",
            "Iteration #60: W_new = [17.07337653  8.88789585], MSE = 416.77\n",
            "Iteration #70: W_new = [18.35601294  8.65530964], MSE = 383.06\n",
            "Iteration #80: W_new = [19.47073522  8.45317196], MSE = 355.08\n",
            "Iteration #90: W_new = [20.44350656  8.27677488], MSE = 331.65\n"
          ]
        }
      ]
    },
    {
      "cell_type": "markdown",
      "metadata": {
        "id": "AdPTheLxb2Ux"
      },
      "source": [
        "*3. Вместо того, чтобы задавать количество итераций, задайте условие остановки алгоритма - когда ошибка за итерацию начинает изменяться ниже определенного порога (упрощенный аналог параметра tol в линейной регрессии в sklearn)."
      ]
    },
    {
      "cell_type": "markdown",
      "metadata": {
        "id": "Aojhnw3RcLgK"
      },
      "source": [
        "Добавим условие остановки break с заданным критерием сходимости $\\varepsilon$:"
      ]
    },
    {
      "cell_type": "code",
      "metadata": {
        "colab": {
          "base_uri": "https://localhost:8080/"
        },
        "id": "YVSXEVN7b2-a",
        "outputId": "3ad09117-74a3-4826-bf95-54a173429c20"
      },
      "source": [
        "n = X.shape[1]\n",
        "alpha = 0.1\n",
        "epsi = 1e-3\n",
        "weight_dist = 100\n",
        "W = np.array([1, 0.5])\n",
        "print(f'Number of objects = {n} \\\n",
        "       \\nLearning rate = {alpha} \\\n",
        "       \\nInitial weights = {W} \\n')\n",
        "\n",
        "for i in range(501):\n",
        "    y_pred = np.dot(W, X)\n",
        "    err = calc_mse(y, y_pred)\n",
        "    W_old = W.copy()\n",
        "    W -= alpha * (1/n * 2 * np.dot(X, (y_pred - y)))\n",
        "\n",
        "    if i % 10 == 0:\n",
        "        alpha /= 1.1\n",
        "        print(f'Iteration #{i}: W_new = {W}, MSE = {round(err,2)}, {weight_dist}')\n",
        "\n",
        "    weight_dist = np.linalg.norm(W - W_old, ord=2)\n",
        "    if weight_dist < epsi:\n",
        "      break"
      ],
      "execution_count": 27,
      "outputs": [
        {
          "output_type": "stream",
          "name": "stdout",
          "text": [
            "Number of objects = 10        \n",
            "Learning rate = 0.1        \n",
            "Initial weights = [1.  0.5] \n",
            "\n",
            "Iteration #0: W_new = [11.8 38.2], MSE = 3047.75, 100\n",
            "Iteration #10: W_new = [12651.73553914 69617.0969639 ], MSE = 18310954068.05, 47059.67877837648\n",
            "Iteration #20: W_new = [ 7732434.81888022 42641607.3785219 ], MSE = 9128819654907584.0, 34817720.535094306\n",
            "Iteration #30: W_new = [1.06344502e+09 5.86454589e+09], MSE = 2.3279203642668535e+20, 5868948089.779732\n",
            "Iteration #40: W_new = [3.00127077e+10 1.65510116e+11], MSE = 2.5451335298159486e+23, 206690198088.4061\n",
            "Iteration #50: W_new = [1.55345341e+11 8.56677968e+11], MSE = 9.572295620500166e+24, 1365336408056.1223\n",
            "Iteration #60: W_new = [1.27742291e+11 7.04456313e+11], MSE = 9.35148012647606e+24, 1474601839268.4924\n",
            "Iteration #70: W_new = [1.38141953e+10 7.61806995e+10], MSE = 1.6408589528284063e+23, 217511434064.05185\n",
            "Iteration #80: W_new = [1.51674189e+08 8.36432543e+08], MSE = 3.125533537874499e+19, 3430491561.950091\n",
            "Iteration #90: W_new = [116395.49993672 641638.79863288], MSE = 31317286806394.78, 4073488.9270215626\n",
            "Iteration #100: W_new = [48.41970322 22.99883206], MSE = 53518.86, 211.69984340594257\n",
            "Iteration #110: W_new = [44.97718845  3.82797807], MSE = 43.97, 0.0029634013065579167\n",
            "Iteration #120: W_new = [44.9989751   3.82401926], MSE = 43.97, 0.001990043892039456\n",
            "Iteration #130: W_new = [45.01389589  3.82131361], MSE = 43.97, 0.0013766989486729204\n"
          ]
        }
      ]
    },
    {
      "cell_type": "markdown",
      "metadata": {
        "id": "tsVkOwSYnQzY"
      },
      "source": [
        "4. Сделайте выводы по результатам работы с GD : что повышает качество результата, что понижает."
      ]
    },
    {
      "cell_type": "markdown",
      "metadata": {
        "id": "pCO11ATBn9Cq"
      },
      "source": [
        "Качественный результат достигается выбором оптимального шага. Оптимум для каждой модели и набора данных будет свой и определяется индивидуально. Использование переменного размера шага позволяет быстрее и точнее достичь минимума функции. Также важно тестировать подбор параметров с разными начальными весами, чтобы избежать локальных минимумов."
      ]
    }
  ]
}