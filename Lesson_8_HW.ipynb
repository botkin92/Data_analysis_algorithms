{
  "nbformat": 4,
  "nbformat_minor": 0,
  "metadata": {
    "colab": {
      "name": "Lesson_8_HW.ipynb",
      "provenance": [],
      "collapsed_sections": [],
      "authorship_tag": "ABX9TyMrzdH741DSeGbouYSpyy3L",
      "include_colab_link": true
    },
    "kernelspec": {
      "name": "python3",
      "display_name": "Python 3"
    },
    "language_info": {
      "name": "python"
    }
  },
  "cells": [
    {
      "cell_type": "markdown",
      "metadata": {
        "id": "view-in-github",
        "colab_type": "text"
      },
      "source": [
        "<a href=\"https://colab.research.google.com/github/botkin92/Data_analysis_algorithms/blob/lesson_8/Lesson_8_HW.ipynb\" target=\"_parent\"><img src=\"https://colab.research.google.com/assets/colab-badge.svg\" alt=\"Open In Colab\"/></a>"
      ]
    },
    {
      "cell_type": "markdown",
      "source": [
        "# Урок 8. Снижение размерности данных"
      ],
      "metadata": {
        "id": "dsQRPezgaMdG"
      }
    },
    {
      "cell_type": "code",
      "source": [
        "import numpy as np\n",
        "from sklearn import datasets\n",
        "from sklearn.model_selection import train_test_split\n",
        "\n",
        "import xgboost\n",
        "from sklearn.decomposition import PCA\n",
        "\n",
        "from sklearn.metrics import accuracy_score, precision_score\n",
        "# from sklearn.metrics import RocCurveDisplay, auc, roc_curve, roc_auc_score\n",
        "# import matplotlib.pyplot as plt"
      ],
      "metadata": {
        "id": "jvyf6A2QbJpW"
      },
      "execution_count": null,
      "outputs": []
    },
    {
      "cell_type": "markdown",
      "source": [
        "1. Обучить любую модель классификации на датасете IRIS до применения PCA и после него. Сравнить качество классификации по отложенной выборке."
      ],
      "metadata": {
        "id": "T46TVUYAaQYx"
      }
    },
    {
      "cell_type": "code",
      "execution_count": null,
      "metadata": {
        "id": "JttZPNKvaK8i"
      },
      "outputs": [],
      "source": [
        "# Загрузим IRIS датасет из sklearn\n",
        "iris = datasets.load_iris()\n",
        "X = iris.data\n",
        "y = iris.target"
      ]
    },
    {
      "cell_type": "code",
      "source": [
        "n_classes = len(np.unique(y))"
      ],
      "metadata": {
        "id": "5J37v1oAgB0y"
      },
      "execution_count": null,
      "outputs": []
    },
    {
      "cell_type": "code",
      "source": [
        "X_train, X_test,y_train, y_test = train_test_split(X, y, test_size=0.5)"
      ],
      "metadata": {
        "id": "Vfxyu-UjbDb_"
      },
      "execution_count": null,
      "outputs": []
    },
    {
      "cell_type": "code",
      "source": [
        "# Для задачи классификации используем xgboost:\n",
        "model = xgboost.XGBClassifier(objective='multi:softmax', num_classes=n_classes)\n",
        "model.fit(X_train, y_train)"
      ],
      "metadata": {
        "colab": {
          "base_uri": "https://localhost:8080/"
        },
        "id": "O9WU610neOR4",
        "outputId": "23c7dd2b-08c0-4d02-ffa7-a12fdb35a95d"
      },
      "execution_count": null,
      "outputs": [
        {
          "output_type": "execute_result",
          "data": {
            "text/plain": [
              "XGBClassifier(num_classes=3, objective='multi:softprob')"
            ]
          },
          "metadata": {},
          "execution_count": 120
        }
      ]
    },
    {
      "cell_type": "code",
      "source": [
        "y_pred = model.predict(X_test)"
      ],
      "metadata": {
        "id": "UOndIoereaRF"
      },
      "execution_count": null,
      "outputs": []
    },
    {
      "cell_type": "code",
      "source": [
        "accuracy = accuracy_score(y_test, y_pred)\n",
        "print(f'accuracy:  {accuracy:.3f}')"
      ],
      "metadata": {
        "colab": {
          "base_uri": "https://localhost:8080/"
        },
        "id": "DArZqu8rjpYv",
        "outputId": "f644036f-b651-469c-a8ec-bfbc84e0d904"
      },
      "execution_count": null,
      "outputs": [
        {
          "output_type": "stream",
          "name": "stdout",
          "text": [
            "accuracy:  0.933\n"
          ]
        }
      ]
    },
    {
      "cell_type": "code",
      "source": [
        "# Разложим датасет на 2 компоненты методом PCA\n",
        "pca = PCA(n_components=2)\n",
        "X_train_pca = pca.fit_transform(X_train)\n",
        "X_test_pca = pca.transform(X_test)"
      ],
      "metadata": {
        "id": "fr0BvRjllGZP"
      },
      "execution_count": null,
      "outputs": []
    },
    {
      "cell_type": "code",
      "source": [
        "# Также обучим модель, после разложения\n",
        "model_pca = xgboost.XGBClassifier(objective='multi:softmax', num_classes=n_classes)\n",
        "model_pca.fit(X_train_pca, y_train)"
      ],
      "metadata": {
        "colab": {
          "base_uri": "https://localhost:8080/"
        },
        "id": "VUSbKGJMlGiF",
        "outputId": "dba2f602-220e-4efd-8ac7-f390a98ee196"
      },
      "execution_count": null,
      "outputs": [
        {
          "output_type": "execute_result",
          "data": {
            "text/plain": [
              "XGBClassifier(num_classes=3, objective='multi:softprob')"
            ]
          },
          "metadata": {},
          "execution_count": 124
        }
      ]
    },
    {
      "cell_type": "code",
      "source": [
        "y_pred_pca = model_pca.predict(X_test_pca)"
      ],
      "metadata": {
        "id": "e77nojPSoLww"
      },
      "execution_count": null,
      "outputs": []
    },
    {
      "cell_type": "code",
      "source": [
        "accuracy_pca = accuracy_score(y_test, y_pred_pca)\n",
        "print(f'accuracy:  {accuracy_pca:.3f}')"
      ],
      "metadata": {
        "colab": {
          "base_uri": "https://localhost:8080/"
        },
        "id": "ppqxqwkMoNBK",
        "outputId": "4db4ed89-85b2-4e10-c672-99c1ad144d89"
      },
      "execution_count": null,
      "outputs": [
        {
          "output_type": "stream",
          "name": "stdout",
          "text": [
            "accuracy:  0.947\n"
          ]
        }
      ]
    },
    {
      "cell_type": "markdown",
      "source": [
        "Стоит отметиь, что модель xgboost показала весьма хороший результат - точность предсказания составила 0.933. После применения метода главных компонент результат улучшился до 0.947. Такая метрика (после снижения размерности данных) свидетельствует о сохранении качества данных."
      ],
      "metadata": {
        "id": "SN1kFhOXygGp"
      }
    },
    {
      "cell_type": "markdown",
      "source": [
        "2. Написать свою реализацию метода главных компонент с помощью сингулярного разложения с использованием функции numpy.linalg.svd()"
      ],
      "metadata": {
        "id": "26J0_ZsZo4Lm"
      }
    },
    {
      "cell_type": "code",
      "source": [
        ""
      ],
      "metadata": {
        "id": "hBcyUenho4WT"
      },
      "execution_count": null,
      "outputs": []
    }
  ]
}