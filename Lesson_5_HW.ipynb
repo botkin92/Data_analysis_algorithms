{
  "cells": [
    {
      "cell_type": "markdown",
      "metadata": {
        "id": "view-in-github",
        "colab_type": "text"
      },
      "source": [
        "<a href=\"https://colab.research.google.com/github/botkin92/Data_analysis_algorithms/blob/lesson_5/Lesson_5_HW.ipynb\" target=\"_parent\"><img src=\"https://colab.research.google.com/assets/colab-badge.svg\" alt=\"Open In Colab\"/></a>"
      ]
    },
    {
      "cell_type": "markdown",
      "metadata": {
        "id": "q0Z7pb2vbIWg"
      },
      "source": [
        "# Урок 5. Случайный лес"
      ]
    },
    {
      "cell_type": "code",
      "execution_count": null,
      "metadata": {
        "id": "ZNR-FOeobIWs"
      },
      "outputs": [],
      "source": [
        "import matplotlib.pyplot as plt\n",
        "import random\n",
        "\n",
        "from matplotlib.colors import ListedColormap\n",
        "from sklearn import datasets\n",
        "\n",
        "import numpy as np\n",
        "\n",
        "from sklearn.model_selection import train_test_split"
      ]
    },
    {
      "cell_type": "code",
      "execution_count": null,
      "metadata": {
        "id": "EwNwXyrtWArT"
      },
      "outputs": [],
      "source": [
        "# from sklearn.tree import DecisionTreeClassifier"
      ]
    },
    {
      "cell_type": "code",
      "execution_count": null,
      "metadata": {
        "id": "1Q9VVLjuWArU"
      },
      "outputs": [],
      "source": [
        "# def accur(y_true,y_pred, t = 0.5):\n",
        "#     y_p = (y_pred>t).astype(int)\n",
        "#     return np.mean(y_p == y_true)"
      ]
    },
    {
      "cell_type": "code",
      "execution_count": null,
      "metadata": {
        "id": "1lQTbFCSWAr9"
      },
      "outputs": [],
      "source": [
        "# from sklearn.linear_model import LogisticRegression"
      ]
    },
    {
      "cell_type": "markdown",
      "metadata": {
        "id": "SQJYSrtPbIWr"
      },
      "source": [
        "## Реализация случайного леса (из методички)"
      ]
    },
    {
      "cell_type": "markdown",
      "metadata": {
        "id": "JvjWiryZbIW2"
      },
      "source": [
        "Реализуем генерацию $N$ бутстрап-выборок и подмножества признаков для нахождения разбиения в узле."
      ]
    },
    {
      "cell_type": "code",
      "execution_count": null,
      "metadata": {
        "id": "d7if4ogqbIW3"
      },
      "outputs": [],
      "source": [
        "random.seed(42)\n",
        "\n",
        "def get_bootstrap(data, labels, N):\n",
        "    n_samples = data.shape[0]\n",
        "    bootstrap = []\n",
        "    \n",
        "    for i in range(N):\n",
        "        b_data = np.zeros(data.shape)\n",
        "        b_labels = np.zeros(labels.shape)\n",
        "        \n",
        "        for j in range(n_samples):\n",
        "            sample_index = random.randint(0, n_samples-1)\n",
        "            b_data[j] = data[sample_index]\n",
        "            b_labels[j] = labels[sample_index]\n",
        "        bootstrap.append((b_data, b_labels))\n",
        "        \n",
        "    return bootstrap"
      ]
    },
    {
      "cell_type": "code",
      "execution_count": null,
      "metadata": {
        "id": "526l0aGNbIW5"
      },
      "outputs": [],
      "source": [
        "def get_subsample(len_sample):\n",
        "    # будем сохранять не сами признаки, а их индексы\n",
        "    sample_indexes = [i for i in range(len_sample)]\n",
        "    \n",
        "    len_subsample = int(np.sqrt(len_sample))\n",
        "    subsample = []\n",
        "    \n",
        "    random.shuffle(sample_indexes)\n",
        "    for _ in range(len_subsample):\n",
        "        subsample.append(sample_indexes.pop())\n",
        "        \n",
        "    return subsample"
      ]
    },
    {
      "cell_type": "markdown",
      "metadata": {
        "id": "L9ZdDJGvbIW8"
      },
      "source": [
        "Далее повторим реализацию построения дерева решений из предыдущего урока с некоторыми изменениями"
      ]
    },
    {
      "cell_type": "code",
      "execution_count": null,
      "metadata": {
        "id": "AGdBq1lbbIW9"
      },
      "outputs": [],
      "source": [
        "# Реализуем класс узла\n",
        "\n",
        "class Node:\n",
        "    \n",
        "    def __init__(self, index, t, true_branch, false_branch):\n",
        "        self.index = index  # индекс признака, по которому ведется сравнение с порогом в этом узле\n",
        "        self.t = t  # значение порога\n",
        "        self.true_branch = true_branch  # поддерево, удовлетворяющее условию в узле\n",
        "        self.false_branch = false_branch  # поддерево, не удовлетворяющее условию в узле"
      ]
    },
    {
      "cell_type": "code",
      "execution_count": null,
      "metadata": {
        "id": "QGT-Wsx6bIW_"
      },
      "outputs": [],
      "source": [
        "# И класс терминального узла (листа)\n",
        "\n",
        "class Leaf:\n",
        "    \n",
        "    def __init__(self, data, labels):\n",
        "        self.data = data\n",
        "        self.labels = labels\n",
        "        self.prediction = self.predict()\n",
        "        \n",
        "    def predict(self):\n",
        "        # подсчет количества объектов разных классов\n",
        "        classes = {}  # сформируем словарь \"класс: количество объектов\"\n",
        "        for label in self.labels:\n",
        "            if label not in classes:\n",
        "                classes[label] = 0\n",
        "            classes[label] += 1\n",
        "        #  найдем класс, количество объектов которого будет максимальным в этом листе и вернем его    \n",
        "        prediction = max(classes, key=classes.get)\n",
        "        return prediction        "
      ]
    },
    {
      "cell_type": "code",
      "execution_count": null,
      "metadata": {
        "id": "DRTe458CbIXE"
      },
      "outputs": [],
      "source": [
        "# Расчет критерия Джини\n",
        "\n",
        "def gini(labels):\n",
        "    #  подсчет количества объектов разных классов\n",
        "    classes = {}\n",
        "    for label in labels:\n",
        "        if label not in classes:\n",
        "            classes[label] = 0\n",
        "        classes[label] += 1\n",
        "    \n",
        "    #  расчет критерия\n",
        "    impurity = 1\n",
        "    for label in classes:\n",
        "        p = classes[label] / len(labels)\n",
        "        impurity -= p ** 2\n",
        "        \n",
        "    return impurity"
      ]
    },
    {
      "cell_type": "code",
      "execution_count": null,
      "metadata": {
        "id": "YT7T4h3WbIXH"
      },
      "outputs": [],
      "source": [
        "# Расчет качества\n",
        "\n",
        "def quality(left_labels, right_labels, current_gini):\n",
        "\n",
        "    # доля выбоки, ушедшая в левое поддерево\n",
        "    p = float(left_labels.shape[0]) / (left_labels.shape[0] + right_labels.shape[0])\n",
        "    \n",
        "    return current_gini - p * gini(left_labels) - (1 - p) * gini(right_labels)"
      ]
    },
    {
      "cell_type": "code",
      "execution_count": null,
      "metadata": {
        "id": "rqbAx1cXbIXK"
      },
      "outputs": [],
      "source": [
        "# Разбиение датасета в узле\n",
        "\n",
        "def split(data, labels, index, t):\n",
        "    \n",
        "    left = np.where(data[:, index] <= t)\n",
        "    right = np.where(data[:, index] > t)\n",
        "        \n",
        "    true_data = data[left]\n",
        "    false_data = data[right]\n",
        "    true_labels = labels[left]\n",
        "    false_labels = labels[right]\n",
        "        \n",
        "    return true_data, false_data, true_labels, false_labels"
      ]
    },
    {
      "cell_type": "code",
      "execution_count": null,
      "metadata": {
        "id": "zP2pg3HUbIXP"
      },
      "outputs": [],
      "source": [
        "# Нахождение наилучшего разбиения\n",
        "\n",
        "def find_best_split(data, labels):\n",
        "    \n",
        "    #  обозначим минимальное количество объектов в узле\n",
        "    min_leaf = 1\n",
        "\n",
        "    current_gini = gini(labels)\n",
        "\n",
        "    best_quality = 0\n",
        "    best_t = None\n",
        "    best_index = None\n",
        "    \n",
        "    n_features = data.shape[1] - 1\n",
        "    \n",
        "    # выбор индекса из подвыборки длиной sqrt(n_features)\n",
        "    subsample = get_subsample(n_features)\n",
        "    \n",
        "    for index in subsample:\n",
        "        # будем проверять только уникальные значения признака, исключая повторения\n",
        "        t_values = np.unique([row[index] for row in data])\n",
        "        \n",
        "        for t in t_values:\n",
        "            true_data, false_data, true_labels, false_labels = split(data, labels, index, t)\n",
        "            #  пропускаем разбиения, в которых в узле остается менее 5 объектов\n",
        "            if len(true_data) < min_leaf or len(false_data) < min_leaf:\n",
        "                continue\n",
        "            \n",
        "            current_quality = quality(true_labels, false_labels, current_gini)\n",
        "            \n",
        "            #  выбираем порог, на котором получается максимальный прирост качества\n",
        "            if current_quality > best_quality:\n",
        "                best_quality, best_t, best_index = current_quality, t, index\n",
        "\n",
        "    return best_quality, best_t, best_index"
      ]
    },
    {
      "cell_type": "code",
      "execution_count": null,
      "metadata": {
        "id": "dQ4ZPJRUbIXR"
      },
      "outputs": [],
      "source": [
        "# Построение дерева с помощью рекурсивной функции\n",
        "\n",
        "def build_tree(data, labels):\n",
        "\n",
        "    quality, t, index = find_best_split(data, labels)\n",
        "\n",
        "    #  Базовый случай - прекращаем рекурсию, когда нет прироста в качества\n",
        "    if quality == 0:\n",
        "        return Leaf(data, labels)\n",
        "\n",
        "    true_data, false_data, true_labels, false_labels = split(data, labels, index, t)\n",
        "\n",
        "    # Рекурсивно строим два поддерева\n",
        "    true_branch = build_tree(true_data, true_labels)\n",
        "    false_branch = build_tree(false_data, false_labels)\n",
        "\n",
        "    # Возвращаем класс узла со всеми поддеревьями, то есть целого дерева\n",
        "    return Node(index, t, true_branch, false_branch)"
      ]
    },
    {
      "cell_type": "markdown",
      "metadata": {
        "id": "T_YX8fnmbIXU"
      },
      "source": [
        "Теперь добавим функцию формирования случайного леса."
      ]
    },
    {
      "cell_type": "code",
      "execution_count": null,
      "metadata": {
        "id": "PZMieMMrbIXV"
      },
      "outputs": [],
      "source": [
        "def random_forest(data, labels, n_trees):\n",
        "    forest = []\n",
        "    bootstrap = get_bootstrap(data, labels, n_trees)\n",
        "    \n",
        "    for b_data, b_labels in bootstrap:\n",
        "        forest.append(build_tree(b_data, b_labels))\n",
        "        \n",
        "    return forest"
      ]
    },
    {
      "cell_type": "code",
      "execution_count": null,
      "metadata": {
        "id": "tWNbZTz4bIXX"
      },
      "outputs": [],
      "source": [
        "# Функция классификации отдельного объекта\n",
        "\n",
        "def classify_object(obj, node):\n",
        "\n",
        "    #  Останавливаем рекурсию, если достигли листа\n",
        "    if isinstance(node, Leaf):\n",
        "        answer = node.prediction\n",
        "        return answer\n",
        "\n",
        "    if obj[node.index] <= node.t:\n",
        "        return classify_object(obj, node.true_branch)\n",
        "    else:\n",
        "        return classify_object(obj, node.false_branch)"
      ]
    },
    {
      "cell_type": "code",
      "execution_count": null,
      "metadata": {
        "id": "rWOM8g_YbIXZ"
      },
      "outputs": [],
      "source": [
        "# функция формирования предсказания по выборке на одном дереве\n",
        "\n",
        "def predict(data, tree):\n",
        "    \n",
        "    classes = []\n",
        "    for obj in data:\n",
        "        prediction = classify_object(obj, tree)\n",
        "        classes.append(prediction)\n",
        "    return classes"
      ]
    },
    {
      "cell_type": "code",
      "execution_count": null,
      "metadata": {
        "id": "ZtIgR7R-bIXc"
      },
      "outputs": [],
      "source": [
        "# предсказание голосованием деревьев\n",
        "\n",
        "def tree_vote(forest, data):\n",
        "\n",
        "    # добавим предсказания всех деревьев в список\n",
        "    predictions = []\n",
        "    for tree in forest:\n",
        "        predictions.append(predict(data, tree))\n",
        "    \n",
        "    # сформируем список с предсказаниями для каждого объекта\n",
        "    predictions_per_object = list(zip(*predictions))\n",
        "    \n",
        "    # выберем в качестве итогового предсказания для каждого объекта то,\n",
        "    # за которое проголосовало большинство деревьев\n",
        "    voted_predictions = []\n",
        "    for obj in predictions_per_object:\n",
        "        voted_predictions.append(max(set(obj), key=obj.count))\n",
        "        \n",
        "    return voted_predictions"
      ]
    },
    {
      "cell_type": "code",
      "execution_count": null,
      "metadata": {
        "id": "z4apOFB9bIXk"
      },
      "outputs": [],
      "source": [
        "# Введем функцию подсчета точности как доли правильных ответов\n",
        "\n",
        "def accuracy_metric(actual, predicted):\n",
        "    correct = 0\n",
        "    for i in range(len(actual)):\n",
        "        if actual[i] == predicted[i]:\n",
        "            correct += 1\n",
        "    return correct / float(len(actual)) * 100.0"
      ]
    },
    {
      "cell_type": "markdown",
      "metadata": {
        "id": "-2NPEcOVWAs7"
      },
      "source": [
        "## Домашнее задание \n",
        "\n",
        "1. Сформировать с помощью sklearn.make_classification датасет из 100 объектов с двумя признаками, обучить случайный лес из 1, 3, 10 и 50 деревьев и визуализировать их разделяющие гиперплоскости на графиках (по подобию визуализации деревьев из предыдущего урока, необходимо только заменить вызов функции predict на tree_vote)."
      ]
    },
    {
      "cell_type": "code",
      "source": [
        "# Сгенерируем данные, представляющие собой 100 объектов с 2-мя признаками\n",
        "data, labels = datasets.make_classification(n_samples=100, n_features = 2, n_informative = 2, \n",
        "                                                      n_classes = 2, n_redundant=0, \n",
        "                                                      n_clusters_per_class=1, random_state=23)\n",
        "# Разобьем выборку на обучающую и тестовую\n",
        "X_train, X_test, y_train ,y_test = train_test_split(data, labels, test_size = 0.3)"
      ],
      "metadata": {
        "id": "V6rXTuIbcB76"
      },
      "execution_count": null,
      "outputs": []
    },
    {
      "cell_type": "code",
      "source": [
        "# # визуализируем сгенерированные данные\n",
        "\n",
        "# colors = ListedColormap(['red', 'blue'])\n",
        "# light_colors = ListedColormap(['lightcoral', 'lightblue'])\n",
        "\n",
        "# plt.figure(figsize=(8,8))\n",
        "# plt.scatter(list(map(lambda x: x[0], data)), list(map(lambda x: x[1], data)), \n",
        "#               c=labels, cmap=colors)\n",
        "# plt.show()"
      ],
      "metadata": {
        "id": "Yr_VGxya_1zx"
      },
      "execution_count": null,
      "outputs": []
    },
    {
      "cell_type": "markdown",
      "metadata": {
        "id": "tVmaXzugde8e"
      },
      "source": [
        "Построим лес из одного дерева"
      ]
    },
    {
      "cell_type": "code",
      "execution_count": null,
      "metadata": {
        "id": "dcbonezIde83"
      },
      "outputs": [],
      "source": [
        "n_trees = 1\n",
        "my_forest_1 = random_forest(X_train, y_train, n_trees)"
      ]
    },
    {
      "cell_type": "code",
      "execution_count": null,
      "metadata": {
        "id": "4UE9bi76de84"
      },
      "outputs": [],
      "source": [
        "# Получим ответы для обучающей выборки \n",
        "train_answers = tree_vote(my_forest_1, X_train)"
      ]
    },
    {
      "cell_type": "code",
      "execution_count": null,
      "metadata": {
        "id": "0feDkB0ide85"
      },
      "outputs": [],
      "source": [
        "# И получим ответы для тестовой выборки\n",
        "test_answers = tree_vote(my_forest_1, X_test)"
      ]
    },
    {
      "cell_type": "code",
      "execution_count": null,
      "metadata": {
        "id": "eqCvhjnTde85",
        "colab": {
          "base_uri": "https://localhost:8080/"
        },
        "outputId": "54a78d45-feca-4039-cca2-60bb6c66a2ae"
      },
      "outputs": [
        {
          "output_type": "stream",
          "name": "stdout",
          "text": [
            "Точность случайного леса из 1 деревьев на обучающей выборке: 94.286\n"
          ]
        }
      ],
      "source": [
        "# Точность на обучающей выборке\n",
        "train_accuracy = accuracy_metric(y_train, train_answers)\n",
        "print(f'Точность случайного леса из {n_trees} деревьев на обучающей выборке: {train_accuracy:.3f}')"
      ]
    },
    {
      "cell_type": "code",
      "execution_count": null,
      "metadata": {
        "id": "LPT-FRKLde86",
        "colab": {
          "base_uri": "https://localhost:8080/"
        },
        "outputId": "8368cccf-5d28-4942-d830-9896310e5a1f"
      },
      "outputs": [
        {
          "output_type": "stream",
          "name": "stdout",
          "text": [
            "Точность случайного леса из 1 деревьев на тестовой выборке: 86.667\n"
          ]
        }
      ],
      "source": [
        "# Точность на тестовой выборке\n",
        "test_accuracy = accuracy_metric(y_test, test_answers)\n",
        "print(f'Точность случайного леса из {n_trees} деревьев на тестовой выборке: {test_accuracy:.3f}')"
      ]
    },
    {
      "cell_type": "code",
      "source": [
        "# Визуализируем дерево на графике\n",
        "\n",
        "colors = ListedColormap(['red', 'blue'])\n",
        "light_colors = ListedColormap(['lightcoral', 'lightblue'])\n",
        "\n",
        "def get_meshgrid(data, step=.05, border=1.2):\n",
        "    x_min, x_max = data[:, 0].min() - border, data[:, 0].max() + border\n",
        "    y_min, y_max = data[:, 1].min() - border, data[:, 1].max() + border\n",
        "    xx,yy = np.meshgrid(np.arange(x_min, x_max, step), np.arange(y_min, y_max, step)) \n",
        "    x = xx.reshape(-1,1)\n",
        "    y = yy.reshape(-1,1)\n",
        "    f = np.ones((x.shape[0],data[:, 2:].shape[1]))\n",
        "    print(f.shape,x.shape,y.shape)\n",
        "    data_gr = np.concatenate((x,y,f),axis=1)\n",
        "    return xx,yy , data_gr# список массивов координатных сеток\n",
        "\n",
        "plt.figure(figsize = (16, 7))\n",
        "\n",
        "# график обучающей выборки\n",
        "plt.subplot(1,2,1)\n",
        "xx, yy,gr = get_meshgrid(X_train)\n",
        "mesh_predictions = np.array(tree_vote(my_forest_1, gr)).reshape(xx.shape) # определяем цвета квадратов в сетке\n",
        "plt.pcolormesh(xx, yy, mesh_predictions, cmap = light_colors)\n",
        "plt.scatter(X_train[:, 0], X_train[:, 1], c = y_train, cmap = colors)\n",
        "plt.title(f'Train accuracy={train_accuracy:.2f}')\n",
        "\n",
        "# график тестовой выборки\n",
        "plt.subplot(1,2,2)\n",
        "plt.pcolormesh(xx, yy, mesh_predictions, cmap = light_colors)\n",
        "plt.scatter(X_test[:, 0], X_test[:, 1], c = y_test, cmap = colors)\n",
        "plt.title(f'Test accuracy={test_accuracy:.2f}')"
      ],
      "metadata": {
        "id": "uN6FcmyoX-Iz",
        "colab": {
          "base_uri": "https://localhost:8080/",
          "height": 479
        },
        "outputId": "9a1fc319-4890-464e-8a6e-0f807fe4e622"
      },
      "execution_count": null,
      "outputs": [
        {
          "output_type": "stream",
          "name": "stdout",
          "text": [
            "(20174, 0) (20174, 1) (20174, 1)\n"
          ]
        },
        {
          "output_type": "execute_result",
          "data": {
            "text/plain": [
              "Text(0.5, 1.0, 'Test accuracy=86.67')"
            ]
          },
          "metadata": {},
          "execution_count": 347
        },
        {
          "output_type": "display_data",
          "data": {
            "image/png": "[encoded data removed]",
            "text/plain": [
              "<Figure size 1152x504 with 2 Axes>"
            ]
          },
          "metadata": {
            "needs_background": "light"
          }
        }
      ]
    },
    {
      "cell_type": "markdown",
      "metadata": {
        "id": "6VfnooN6glMc"
      },
      "source": [
        "Построим лес из трех деревьев"
      ]
    },
    {
      "cell_type": "code",
      "execution_count": null,
      "metadata": {
        "id": "poaT2D9lfsf5"
      },
      "outputs": [],
      "source": [
        "n_trees = 3\n",
        "my_forest_3 = random_forest(X_train, y_train, n_trees)"
      ]
    },
    {
      "cell_type": "code",
      "execution_count": null,
      "metadata": {
        "id": "qgwuEJWzfsgE"
      },
      "outputs": [],
      "source": [
        "# Получим ответы для обучающей выборки \n",
        "train_answers = tree_vote(my_forest_3, X_train)"
      ]
    },
    {
      "cell_type": "code",
      "execution_count": null,
      "metadata": {
        "id": "rdSFJwv5fsgF"
      },
      "outputs": [],
      "source": [
        "# И получим ответы для тестовой выборки\n",
        "test_answers = tree_vote(my_forest_3, X_test)"
      ]
    },
    {
      "cell_type": "code",
      "execution_count": null,
      "metadata": {
        "id": "UnAJSuqcfsgF",
        "colab": {
          "base_uri": "https://localhost:8080/"
        },
        "outputId": "b9be9866-8aac-4014-f5b4-88ef86292cf4"
      },
      "outputs": [
        {
          "output_type": "stream",
          "name": "stdout",
          "text": [
            "Точность случайного леса из 3 деревьев на обучающей выборке: 97.143\n"
          ]
        }
      ],
      "source": [
        "# Точность на обучающей выборке\n",
        "train_accuracy = accuracy_metric(y_train, train_answers)\n",
        "print(f'Точность случайного леса из {n_trees} деревьев на обучающей выборке: {train_accuracy:.3f}')"
      ]
    },
    {
      "cell_type": "code",
      "execution_count": null,
      "metadata": {
        "id": "1BApPM1kfsgH",
        "colab": {
          "base_uri": "https://localhost:8080/"
        },
        "outputId": "48acbe48-989e-4630-e6e9-60d779081035"
      },
      "outputs": [
        {
          "output_type": "stream",
          "name": "stdout",
          "text": [
            "Точность случайного леса из 3 деревьев на тестовой выборке: 90.000\n"
          ]
        }
      ],
      "source": [
        "# Точность на тестовой выборке\n",
        "test_accuracy = accuracy_metric(y_test, test_answers)\n",
        "print(f'Точность случайного леса из {n_trees} деревьев на тестовой выборке: {test_accuracy:.3f}')"
      ]
    },
    {
      "cell_type": "code",
      "source": [
        "# Визуализируем дерево на графике\n",
        "\n",
        "# def get_meshgrid(data, step=.05, border=1.2):\n",
        "#     x_min, x_max = data[:, 0].min() - border, data[:, 0].max() + border\n",
        "#     y_min, y_max = data[:, 1].min() - border, data[:, 1].max() + border\n",
        "#     xx,yy = np.meshgrid(np.arange(x_min, x_max, step), np.arange(y_min, y_max, step)) \n",
        "#     x = xx.reshape(-1,1)\n",
        "#     y = yy.reshape(-1,1)\n",
        "#     f = np.ones((x.shape[0],data[:, 2:].shape[1]))\n",
        "#     print(f.shape,x.shape,y.shape)\n",
        "#     data_gr = np.concatenate((x,y,f),axis=1)\n",
        "#     return xx,yy , data_gr# список массивов координатных сеток\n",
        "\n",
        "plt.figure(figsize = (16, 7))\n",
        "\n",
        "# график обучающей выборки\n",
        "plt.subplot(1,2,1)\n",
        "xx, yy,gr = get_meshgrid(X_train)\n",
        "mesh_predictions = np.array(tree_vote(my_forest_3, gr)).reshape(xx.shape) # определяем цвета квадратов в сетке\n",
        "plt.pcolormesh(xx, yy, mesh_predictions, cmap = light_colors)\n",
        "plt.scatter(X_train[:, 0], X_train[:, 1], c = y_train, cmap = colors)\n",
        "plt.title(f'Train accuracy={train_accuracy:.2f}')\n",
        "\n",
        "# график тестовой выборки\n",
        "plt.subplot(1,2,2)\n",
        "plt.pcolormesh(xx, yy, mesh_predictions, cmap = light_colors)\n",
        "plt.scatter(X_test[:, 0], X_test[:, 1], c = y_test, cmap = colors)\n",
        "plt.title(f'Test accuracy={test_accuracy:.2f}')"
      ],
      "metadata": {
        "id": "egqZ0MTvX4k8",
        "colab": {
          "base_uri": "https://localhost:8080/",
          "height": 479
        },
        "outputId": "bada0949-de8c-44ad-fe79-1042b0801e63"
      },
      "execution_count": null,
      "outputs": [
        {
          "output_type": "stream",
          "name": "stdout",
          "text": [
            "(20174, 0) (20174, 1) (20174, 1)\n"
          ]
        },
        {
          "output_type": "execute_result",
          "data": {
            "text/plain": [
              "Text(0.5, 1.0, 'Test accuracy=90.00')"
            ]
          },
          "metadata": {},
          "execution_count": 353
        },
        {
          "output_type": "display_data",
          "data": {
            "image/png": "[encoded data removed]",
            "text/plain": [
              "<Figure size 1152x504 with 2 Axes>"
            ]
          },
          "metadata": {
            "needs_background": "light"
          }
        }
      ]
    },
    {
      "cell_type": "markdown",
      "metadata": {
        "id": "d7JgPkqZgqnX"
      },
      "source": [
        "Построим лес из десяти деревьев"
      ]
    },
    {
      "cell_type": "code",
      "execution_count": null,
      "metadata": {
        "id": "8Ja1Z5XBgX1N"
      },
      "outputs": [],
      "source": [
        "n_trees = 10\n",
        "my_forest_10 = random_forest(X_train, y_train, n_trees)"
      ]
    },
    {
      "cell_type": "code",
      "execution_count": null,
      "metadata": {
        "id": "3yRH_ZXcgX1P"
      },
      "outputs": [],
      "source": [
        "# Получим ответы для обучающей выборки \n",
        "train_answers = tree_vote(my_forest_10, X_train)"
      ]
    },
    {
      "cell_type": "code",
      "execution_count": null,
      "metadata": {
        "id": "kTxCaglIgX1Q"
      },
      "outputs": [],
      "source": [
        "# И получим ответы для тестовой выборки\n",
        "test_answers = tree_vote(my_forest_10, X_test)"
      ]
    },
    {
      "cell_type": "code",
      "execution_count": null,
      "metadata": {
        "id": "FnQ6yNoDgX1Q",
        "colab": {
          "base_uri": "https://localhost:8080/"
        },
        "outputId": "e4c0cee6-55ad-4452-d982-1ccfe9870148"
      },
      "outputs": [
        {
          "output_type": "stream",
          "name": "stdout",
          "text": [
            "Точность случайного леса из 10 деревьев на обучающей выборке: 100.000\n"
          ]
        }
      ],
      "source": [
        "# Точность на обучающей выборке\n",
        "train_accuracy = accuracy_metric(y_train, train_answers)\n",
        "print(f'Точность случайного леса из {n_trees} деревьев на обучающей выборке: {train_accuracy:.3f}')"
      ]
    },
    {
      "cell_type": "code",
      "execution_count": null,
      "metadata": {
        "id": "4vIPWSwKgX1R",
        "colab": {
          "base_uri": "https://localhost:8080/"
        },
        "outputId": "af9e0040-ba19-4d29-94df-d32d674cbd3d"
      },
      "outputs": [
        {
          "output_type": "stream",
          "name": "stdout",
          "text": [
            "Точность случайного леса из 10 деревьев на тестовой выборке: 80.000\n"
          ]
        }
      ],
      "source": [
        "# Точность на тестовой выборке\n",
        "test_accuracy = accuracy_metric(y_test, test_answers)\n",
        "print(f'Точность случайного леса из {n_trees} деревьев на тестовой выборке: {test_accuracy:.3f}')"
      ]
    },
    {
      "cell_type": "code",
      "source": [
        "# Визуализируем дерево на графике\n",
        "\n",
        "# def get_meshgrid(data, step=.05, border=1.2):\n",
        "#     x_min, x_max = data[:, 0].min() - border, data[:, 0].max() + border\n",
        "#     y_min, y_max = data[:, 1].min() - border, data[:, 1].max() + border\n",
        "#     xx,yy = np.meshgrid(np.arange(x_min, x_max, step), np.arange(y_min, y_max, step)) \n",
        "#     x = xx.reshape(-1,1)\n",
        "#     y = yy.reshape(-1,1)\n",
        "#     f = np.ones((x.shape[0],data[:, 2:].shape[1]))\n",
        "#     print(f.shape,x.shape,y.shape)\n",
        "#     data_gr = np.concatenate((x,y,f),axis=1)\n",
        "#     return xx,yy , data_gr# список массивов координатных сеток\n",
        "\n",
        "plt.figure(figsize = (16, 7))\n",
        "\n",
        "# график обучающей выборки\n",
        "plt.subplot(1,2,1)\n",
        "xx, yy,gr = get_meshgrid(X_train)\n",
        "mesh_predictions = np.array(tree_vote(my_forest_10, gr)).reshape(xx.shape) # определяем цвета квадратов в сетке\n",
        "plt.pcolormesh(xx, yy, mesh_predictions, cmap = light_colors)\n",
        "plt.scatter(X_train[:, 0], X_train[:, 1], c = y_train, cmap = colors)\n",
        "plt.title(f'Train accuracy={train_accuracy:.2f}')\n",
        "\n",
        "# график тестовой выборки\n",
        "plt.subplot(1,2,2)\n",
        "plt.pcolormesh(xx, yy, mesh_predictions, cmap = light_colors)\n",
        "plt.scatter(X_test[:, 0], X_test[:, 1], c = y_test, cmap = colors)\n",
        "plt.title(f'Test accuracy={test_accuracy:.2f}')"
      ],
      "metadata": {
        "id": "CzJi2yWzXwnb",
        "colab": {
          "base_uri": "https://localhost:8080/",
          "height": 479
        },
        "outputId": "b14611cf-0988-4332-c53c-9a057aa4dde0"
      },
      "execution_count": null,
      "outputs": [
        {
          "output_type": "stream",
          "name": "stdout",
          "text": [
            "(20174, 0) (20174, 1) (20174, 1)\n"
          ]
        },
        {
          "output_type": "execute_result",
          "data": {
            "text/plain": [
              "Text(0.5, 1.0, 'Test accuracy=80.00')"
            ]
          },
          "metadata": {},
          "execution_count": 359
        },
        {
          "output_type": "display_data",
          "data": {
            "image/png": "[encoded data removed]",
            "text/plain": [
              "<Figure size 1152x504 with 2 Axes>"
            ]
          },
          "metadata": {
            "needs_background": "light"
          }
        }
      ]
    },
    {
      "cell_type": "markdown",
      "metadata": {
        "id": "c0C0ErtXlZqL"
      },
      "source": [
        "Построим лес из пятидесяти деревьев"
      ]
    },
    {
      "cell_type": "code",
      "execution_count": null,
      "metadata": {
        "id": "MGCMBd34lPl3"
      },
      "outputs": [],
      "source": [
        "n_trees = 50\n",
        "my_forest_50 = random_forest(X_train, y_train, n_trees)"
      ]
    },
    {
      "cell_type": "code",
      "execution_count": null,
      "metadata": {
        "id": "ePovELG5lPmT"
      },
      "outputs": [],
      "source": [
        "# Получим ответы для обучающей выборки \n",
        "train_answers = tree_vote(my_forest_50, X_train)"
      ]
    },
    {
      "cell_type": "code",
      "execution_count": null,
      "metadata": {
        "id": "XJ5GuT1QlPmU"
      },
      "outputs": [],
      "source": [
        "# И получим ответы для тестовой выборки\n",
        "test_answers = tree_vote(my_forest_50, X_test)"
      ]
    },
    {
      "cell_type": "code",
      "execution_count": null,
      "metadata": {
        "id": "SpyE5GvdlPmU",
        "colab": {
          "base_uri": "https://localhost:8080/"
        },
        "outputId": "07d8ff9f-e584-472f-f453-7c42ef4d2744"
      },
      "outputs": [
        {
          "output_type": "stream",
          "name": "stdout",
          "text": [
            "Точность случайного леса из 50 деревьев на обучающей выборке: 100.000\n"
          ]
        }
      ],
      "source": [
        "# Точность на обучающей выборке\n",
        "train_accuracy = accuracy_metric(y_train, train_answers)\n",
        "print(f'Точность случайного леса из {n_trees} деревьев на обучающей выборке: {train_accuracy:.3f}')"
      ]
    },
    {
      "cell_type": "code",
      "execution_count": null,
      "metadata": {
        "id": "EFiE2DyNlPmV",
        "colab": {
          "base_uri": "https://localhost:8080/"
        },
        "outputId": "f881ea75-8f89-42fb-c983-ef87e679e2f2"
      },
      "outputs": [
        {
          "output_type": "stream",
          "name": "stdout",
          "text": [
            "Точность случайного леса из 50 деревьев на тестовой выборке: 80.000\n"
          ]
        }
      ],
      "source": [
        "# Точность на тестовой выборке\n",
        "test_accuracy = accuracy_metric(y_test, test_answers)\n",
        "print(f'Точность случайного леса из {n_trees} деревьев на тестовой выборке: {test_accuracy:.3f}')"
      ]
    },
    {
      "cell_type": "code",
      "source": [
        "# Визуализируем дерево на графике\n",
        "\n",
        "# def get_meshgrid(data, step=.05, border=1.2):\n",
        "#     x_min, x_max = data[:, 0].min() - border, data[:, 0].max() + border\n",
        "#     y_min, y_max = data[:, 1].min() - border, data[:, 1].max() + border\n",
        "#     xx,yy = np.meshgrid(np.arange(x_min, x_max, step), np.arange(y_min, y_max, step)) \n",
        "#     x = xx.reshape(-1,1)\n",
        "#     y = yy.reshape(-1,1)\n",
        "#     f = np.ones((x.shape[0],data[:, 2:].shape[1]))\n",
        "#     print(f.shape,x.shape,y.shape)\n",
        "#     data_gr = np.concatenate((x,y,f),axis=1)\n",
        "#     return xx,yy , data_gr# список массивов координатных сеток\n",
        "\n",
        "plt.figure(figsize = (16, 7))\n",
        "\n",
        "# график обучающей выборки\n",
        "plt.subplot(1,2,1)\n",
        "xx, yy,gr = get_meshgrid(X_train)\n",
        "mesh_predictions = np.array(tree_vote(my_forest_50, gr)).reshape(xx.shape) # определяем цвета квадратов в сетке\n",
        "plt.pcolormesh(xx, yy, mesh_predictions, cmap = light_colors)\n",
        "plt.scatter(X_train[:, 0], X_train[:, 1], c = y_train, cmap = colors)\n",
        "plt.title(f'Train accuracy={train_accuracy:.2f}')\n",
        "\n",
        "# график тестовой выборки\n",
        "plt.subplot(1,2,2)\n",
        "plt.pcolormesh(xx, yy, mesh_predictions, cmap = light_colors)\n",
        "plt.scatter(X_test[:, 0], X_test[:, 1], c = y_test, cmap = colors)\n",
        "plt.title(f'Test accuracy={test_accuracy:.2f}')"
      ],
      "metadata": {
        "id": "osoF4eVqPa9v",
        "colab": {
          "base_uri": "https://localhost:8080/",
          "height": 479
        },
        "outputId": "5378f3f6-4b7e-4190-eeaa-e21574c9b39a"
      },
      "execution_count": null,
      "outputs": [
        {
          "output_type": "stream",
          "name": "stdout",
          "text": [
            "(20174, 0) (20174, 1) (20174, 1)\n"
          ]
        },
        {
          "output_type": "execute_result",
          "data": {
            "text/plain": [
              "Text(0.5, 1.0, 'Test accuracy=80.00')"
            ]
          },
          "metadata": {},
          "execution_count": 365
        },
        {
          "output_type": "display_data",
          "data": {
            "image/png": "[encoded data removed]",
            "text/plain": [
              "<Figure size 1152x504 with 2 Axes>"
            ]
          },
          "metadata": {
            "needs_background": "light"
          }
        }
      ]
    },
    {
      "cell_type": "markdown",
      "source": [
        "2. Сделать выводы о получаемой сложности гиперплоскости и недообучении или переобучении случайного леса в зависимости от количества деревьев в нем"
      ],
      "metadata": {
        "id": "1Uq93pZPcFfH"
      }
    },
    {
      "cell_type": "markdown",
      "source": [
        "В данном примере можно сказать, что гиперплоскости получились достаточно простыми. Все разбиения происходят вдоль одного признака. С увеличением числа деревьев увеличивается переобучение."
      ],
      "metadata": {
        "id": "icAPyfFiZhJJ"
      }
    },
    {
      "cell_type": "markdown",
      "source": [
        "3. Заменить в реализованном алгоритме проверку с помощью отложенной выборки на Out-of-Bag."
      ],
      "metadata": {
        "id": "DLyIz6WjcIHd"
      }
    },
    {
      "cell_type": "markdown",
      "source": [
        "Дополним функцию get_bootstrap поиском отложенной выборки, т.е. те элементы которые не вошли в bootstrap подмножество: "
      ],
      "metadata": {
        "id": "rk8NjNKR1bT5"
      }
    },
    {
      "cell_type": "code",
      "source": [
        "random.seed(42)\n",
        "\n",
        "def get_bootstrap_oob(data, labels, N):\n",
        "    n_samples = data.shape[0]\n",
        "    bootstrap = []\n",
        "\n",
        "    oob = []  # Список, аналогичный списку bootstrap, для отложенной выборки \n",
        "\n",
        "    for i in range(N):\n",
        "        b_data = np.zeros(data.shape)\n",
        "        b_labels = np.zeros(labels.shape)\n",
        "\n",
        "        smplist_index = []  # список индексов для bootstrap выборки\n",
        "        outlist_index = []  # список индексов для отложенной выборки\n",
        "        \n",
        "        for j in range(n_samples):\n",
        "            sample_index = random.randint(0, n_samples-1)\n",
        "            b_data[j] = data[sample_index]\n",
        "            b_labels[j] = labels[sample_index]\n",
        "            smplist_index.append(sample_index)  # запишем индекс в список\n",
        "        bootstrap.append((b_data, b_labels))\n",
        "\n",
        "        for ind in range(n_samples):\n",
        "            if ind not in smplist_index:  # если индекс не принадлежит bootstrap выборки, то присвоем его к отложенной \n",
        "                outlist_index.append(ind)\n",
        "        oob.append((data[outlist_index], labels[outlist_index]))\n",
        "    \n",
        "    return bootstrap, oob"
      ],
      "metadata": {
        "id": "HK7Ye4uTkU8r"
      },
      "execution_count": null,
      "outputs": []
    },
    {
      "cell_type": "code",
      "source": [
        "# Скорректируем random_forest, добавив пустую переменную:\n",
        "def random_forest_oob(data, labels, n_trees):\n",
        "    forest = []\n",
        "    bootstrap, _ = get_bootstrap_oob(data, labels, n_trees)\n",
        "    \n",
        "    for b_data, b_labels in bootstrap:\n",
        "        forest.append(build_tree(b_data, b_labels))\n",
        "        \n",
        "    return forest"
      ],
      "metadata": {
        "id": "nPPGdBNO1Nsg"
      },
      "execution_count": null,
      "outputs": []
    },
    {
      "cell_type": "markdown",
      "source": [
        "Рассчитаем точность на обучающей выборке"
      ],
      "metadata": {
        "id": "hQHrT3-9pLyX"
      }
    },
    {
      "cell_type": "code",
      "execution_count": null,
      "metadata": {
        "id": "So_ZsS0H3US8"
      },
      "outputs": [],
      "source": [
        "n_trees = 1\n",
        "my_forest_oob_1 = random_forest_oob(X_train, y_train, n_trees)"
      ]
    },
    {
      "cell_type": "code",
      "source": [
        "bootstrap, oob = get_bootstrap_oob(X_train, y_train, n_trees)"
      ],
      "metadata": {
        "id": "Cdy__T1XuDeT"
      },
      "execution_count": null,
      "outputs": []
    },
    {
      "cell_type": "code",
      "source": [
        "for b_data, b_labels in bootstrap:\n",
        "    X_b = b_data\n",
        "    y_b = b_labels"
      ],
      "metadata": {
        "id": "R8c8m8gXxiiq"
      },
      "execution_count": null,
      "outputs": []
    },
    {
      "cell_type": "code",
      "execution_count": null,
      "metadata": {
        "id": "dyyJkRuVpHld"
      },
      "outputs": [],
      "source": [
        "# Получим ответы для обучающей выборки \n",
        "train_answers = tree_vote(my_forest_oob_1, X_b)"
      ]
    },
    {
      "cell_type": "code",
      "execution_count": null,
      "metadata": {
        "colab": {
          "base_uri": "https://localhost:8080/"
        },
        "outputId": "66cb3535-0739-400a-e31b-da2ee9221349",
        "id": "bORoqOB4pHle"
      },
      "outputs": [
        {
          "output_type": "stream",
          "name": "stdout",
          "text": [
            "Точность случайного леса из 3 деревьев на обучающей выборке: 94.286\n"
          ]
        }
      ],
      "source": [
        "# Точность на обучающей выборке\n",
        "train_accuracy = accuracy_metric(y_b, train_answers)\n",
        "print(f'Точность случайного леса из {n_trees} деревьев на обучающей выборке: {train_accuracy:.3f}')"
      ]
    },
    {
      "cell_type": "markdown",
      "source": [
        "Проверим точность на отложенной выборке для леса из одного дерева"
      ],
      "metadata": {
        "id": "4ynL8oxu3Xq6"
      }
    },
    {
      "cell_type": "code",
      "source": [
        "for oob_data, oob_labels in oob:\n",
        "    X_oob = oob_data\n",
        "    y_oob = oob_labels"
      ],
      "metadata": {
        "id": "7V70HBm_uUPW"
      },
      "execution_count": null,
      "outputs": []
    },
    {
      "cell_type": "code",
      "execution_count": null,
      "metadata": {
        "id": "IuWT04lZ3US-"
      },
      "outputs": [],
      "source": [
        "# Получим ответы для отложенной выборки \n",
        "oob_answers = tree_vote(my_forest_oob_1, X_oob)"
      ]
    },
    {
      "cell_type": "code",
      "execution_count": null,
      "metadata": {
        "id": "t5PrBiDK3US_",
        "colab": {
          "base_uri": "https://localhost:8080/"
        },
        "outputId": "06388788-a5ae-434c-d76e-155f2989750f"
      },
      "outputs": [
        {
          "output_type": "stream",
          "name": "stdout",
          "text": [
            "Точность случайного леса из 1 деревьев на отложенной выборке: 92.000\n"
          ]
        }
      ],
      "source": [
        "# Точность на отложенной выборке\n",
        "oob_accuracy = accuracy_metric(y_oob, oob_answers)\n",
        "print(f'Точность случайного леса из {n_trees} деревьев на отложенной выборке: {train_accuracy:.3f}')"
      ]
    },
    {
      "cell_type": "markdown",
      "source": [
        "4. (На повторение) Переписать функцию gini из урока про решающие деревья так, чтобы в качестве критерия использовалась энтропия Шэннона. Переименовать функцию в entropy и сравнить результаты построения леса по Шеннону и Gini."
      ],
      "metadata": {
        "id": "suUyfi8scKNe"
      }
    },
    {
      "cell_type": "code",
      "source": [
        "# Расчет критерия Джини\n",
        "\n",
        "# def gini(labels):\n",
        "#     #  подсчет количества объектов разных классов\n",
        "#     classes = {}\n",
        "#     for label in labels:\n",
        "#         if label not in classes:\n",
        "#             classes[label] = 0\n",
        "#         classes[label] += 1\n",
        "    \n",
        "#     #  расчет критерия\n",
        "#     impurity = 1\n",
        "#     for label in classes:\n",
        "#         p = classes[label] / len(labels)\n",
        "#         impurity -= p ** 2\n",
        "        \n",
        "#     return impurity"
      ],
      "metadata": {
        "id": "Her2j-0k7yNC"
      },
      "execution_count": null,
      "outputs": []
    },
    {
      "cell_type": "code",
      "source": [
        "# Расчет критерия энтропии\n",
        "\n",
        "def entropy(labels):\n",
        "    #  подсчет количества объектов разных классов\n",
        "    classes = {}\n",
        "    for label in labels:\n",
        "        if label not in classes:\n",
        "            classes[label] = 0\n",
        "        classes[label] += 1\n",
        "\n",
        "    #  расчет критерия\n",
        "    shannon_ent = 0\n",
        "    for label in classes:\n",
        "        p = classes[label] / len(labels)\n",
        "        shannon_ent -= p * np.log2(p)\n",
        "      \n",
        "    return shannon_ent"
      ],
      "metadata": {
        "id": "Vs1Stg2u7zzG"
      },
      "execution_count": null,
      "outputs": []
    },
    {
      "cell_type": "code",
      "execution_count": null,
      "metadata": {
        "id": "NfrsDyo_DMkK"
      },
      "outputs": [],
      "source": [
        "# Расчет качества\n",
        "\n",
        "def quality(left_labels, right_labels, current_entropy):\n",
        "\n",
        "    # доля выбоки, ушедшая в левое поддерево\n",
        "    p = float(left_labels.shape[0]) / (left_labels.shape[0] + right_labels.shape[0])\n",
        "    \n",
        "    return current_entropy - p * entropy(left_labels) - (1 - p) * entropy(right_labels)"
      ]
    },
    {
      "cell_type": "code",
      "execution_count": null,
      "metadata": {
        "id": "IBWXIcQaDMkM"
      },
      "outputs": [],
      "source": [
        "# Нахождение наилучшего разбиения\n",
        "\n",
        "def find_best_split(data, labels):\n",
        "    \n",
        "    #  обозначим минимальное количество объектов в узле\n",
        "    min_leaf = 1\n",
        "\n",
        "    current_entropy = entropy(labels)\n",
        "\n",
        "    best_quality = 0\n",
        "    best_t = None\n",
        "    best_index = None\n",
        "    \n",
        "    n_features = data.shape[1] - 1\n",
        "    \n",
        "    # выбор индекса из подвыборки длиной sqrt(n_features)\n",
        "    subsample = get_subsample(n_features)\n",
        "    \n",
        "    for index in subsample:\n",
        "        # будем проверять только уникальные значения признака, исключая повторения\n",
        "        t_values = np.unique([row[index] for row in data])\n",
        "        \n",
        "        for t in t_values:\n",
        "            true_data, false_data, true_labels, false_labels = split(data, labels, index, t)\n",
        "            #  пропускаем разбиения, в которых в узле остается менее 5 объектов\n",
        "            if len(true_data) < min_leaf or len(false_data) < min_leaf:\n",
        "                continue\n",
        "            \n",
        "            current_quality = quality(true_labels, false_labels, current_entropy)\n",
        "            \n",
        "            #  выбираем порог, на котором получается максимальный прирост качества\n",
        "            if current_quality > best_quality:\n",
        "                best_quality, best_t, best_index = current_quality, t, index\n",
        "\n",
        "    return best_quality, best_t, best_index"
      ]
    },
    {
      "cell_type": "markdown",
      "metadata": {
        "id": "z1HU8AJsDvfz"
      },
      "source": [
        "Построим лес из трех деревьев с критерием Шеннона"
      ]
    },
    {
      "cell_type": "code",
      "execution_count": null,
      "metadata": {
        "id": "iC3FgeR4Dvf0"
      },
      "outputs": [],
      "source": [
        "n_trees = 3\n",
        "my_forest_3 = random_forest(X_train, y_train, n_trees)"
      ]
    },
    {
      "cell_type": "code",
      "execution_count": null,
      "metadata": {
        "id": "Bu84A8wuDvf0"
      },
      "outputs": [],
      "source": [
        "# Получим ответы для обучающей выборки \n",
        "train_answers = tree_vote(my_forest_3, X_train)"
      ]
    },
    {
      "cell_type": "code",
      "execution_count": null,
      "metadata": {
        "id": "11eVxfUVDvf0"
      },
      "outputs": [],
      "source": [
        "# И получим ответы для тестовой выборки\n",
        "test_answers = tree_vote(my_forest_3, X_test)"
      ]
    },
    {
      "cell_type": "code",
      "execution_count": null,
      "metadata": {
        "id": "egqLY30xDvf1",
        "colab": {
          "base_uri": "https://localhost:8080/"
        },
        "outputId": "62b82e9b-5309-4c80-d0f1-3a91f7d2dcad"
      },
      "outputs": [
        {
          "output_type": "stream",
          "name": "stdout",
          "text": [
            "Точность случайного леса из 3 деревьев на обучающей выборке: 95.714\n"
          ]
        }
      ],
      "source": [
        "# Точность на обучающей выборке\n",
        "train_accuracy = accuracy_metric(y_train, train_answers)\n",
        "print(f'Точность случайного леса из {n_trees} деревьев на обучающей выборке: {train_accuracy:.3f}')"
      ]
    },
    {
      "cell_type": "code",
      "execution_count": null,
      "metadata": {
        "id": "LC4TLYN9Dvf1",
        "colab": {
          "base_uri": "https://localhost:8080/"
        },
        "outputId": "a84c0ab1-f430-455e-fefe-de42b35c29ec"
      },
      "outputs": [
        {
          "output_type": "stream",
          "name": "stdout",
          "text": [
            "Точность случайного леса из 3 деревьев на тестовой выборке: 90.000\n"
          ]
        }
      ],
      "source": [
        "# Точность на тестовой выборке\n",
        "test_accuracy = accuracy_metric(y_test, test_answers)\n",
        "print(f'Точность случайного леса из {n_trees} деревьев на тестовой выборке: {test_accuracy:.3f}')"
      ]
    },
    {
      "cell_type": "code",
      "source": [
        "# Визуализируем дерево на графике\n",
        "\n",
        "# def get_meshgrid(data, step=.05, border=1.2):\n",
        "#     x_min, x_max = data[:, 0].min() - border, data[:, 0].max() + border\n",
        "#     y_min, y_max = data[:, 1].min() - border, data[:, 1].max() + border\n",
        "#     xx,yy = np.meshgrid(np.arange(x_min, x_max, step), np.arange(y_min, y_max, step)) \n",
        "#     x = xx.reshape(-1,1)\n",
        "#     y = yy.reshape(-1,1)\n",
        "#     f = np.ones((x.shape[0],data[:, 2:].shape[1]))\n",
        "#     print(f.shape,x.shape,y.shape)\n",
        "#     data_gr = np.concatenate((x,y,f),axis=1)\n",
        "#     return xx,yy , data_gr# список массивов координатных сеток\n",
        "\n",
        "plt.figure(figsize = (16, 7))\n",
        "\n",
        "# график обучающей выборки\n",
        "plt.subplot(1,2,1)\n",
        "xx, yy,gr = get_meshgrid(X_train)\n",
        "mesh_predictions = np.array(tree_vote(my_forest_3, gr)).reshape(xx.shape) # определяем цвета квадратов в сетке\n",
        "plt.pcolormesh(xx, yy, mesh_predictions, cmap = light_colors)\n",
        "plt.scatter(X_train[:, 0], X_train[:, 1], c = y_train, cmap = colors)\n",
        "plt.title(f'Train accuracy={train_accuracy:.2f}')\n",
        "\n",
        "# график тестовой выборки\n",
        "plt.subplot(1,2,2)\n",
        "plt.pcolormesh(xx, yy, mesh_predictions, cmap = light_colors)\n",
        "plt.scatter(X_test[:, 0], X_test[:, 1], c = y_test, cmap = colors)\n",
        "plt.title(f'Test accuracy={test_accuracy:.2f}')"
      ],
      "metadata": {
        "id": "-6XSN5MoDvf1",
        "colab": {
          "base_uri": "https://localhost:8080/",
          "height": 479
        },
        "outputId": "d3a4ba0d-7f6d-405e-bd39-2c5b7b2025a2"
      },
      "execution_count": null,
      "outputs": [
        {
          "output_type": "stream",
          "name": "stdout",
          "text": [
            "(20174, 0) (20174, 1) (20174, 1)\n"
          ]
        },
        {
          "output_type": "execute_result",
          "data": {
            "text/plain": [
              "Text(0.5, 1.0, 'Test accuracy=90.00')"
            ]
          },
          "metadata": {},
          "execution_count": 385
        },
        {
          "output_type": "display_data",
          "data": {
            "image/png": "[encoded data removed]",
            "text/plain": [
              "<Figure size 1152x504 with 2 Axes>"
            ]
          },
          "metadata": {
            "needs_background": "light"
          }
        }
      ]
    },
    {
      "cell_type": "markdown",
      "source": [
        "Построенный лес с критерием Шеннона получил меньшее число гиперплоскостей, хотя результаты схожи с лесом по Джини. Признаки и пороги, выбранные при разбиении также схожи с реализацией по Джини."
      ],
      "metadata": {
        "id": "2XNk69k-ZYh_"
      }
    }
  ],
  "metadata": {
    "colab": {
      "collapsed_sections": [],
      "name": "Lesson_5_HW.ipynb",
      "provenance": [],
      "include_colab_link": true
    },
    "kernelspec": {
      "display_name": "Python 3",
      "language": "python",
      "name": "python3"
    },
    "language_info": {
      "codemirror_mode": {
        "name": "ipython",
        "version": 3
      },
      "file_extension": ".py",
      "mimetype": "text/x-python",
      "name": "python",
      "nbconvert_exporter": "python",
      "pygments_lexer": "ipython3",
      "version": "3.7.1"
    }
  },
  "nbformat": 4,
  "nbformat_minor": 0
}