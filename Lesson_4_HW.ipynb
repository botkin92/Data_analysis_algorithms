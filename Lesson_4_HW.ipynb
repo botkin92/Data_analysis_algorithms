{
  "nbformat": 4,
  "nbformat_minor": 0,
  "metadata": {
    "kernelspec": {
      "display_name": "Python 3",
      "language": "python",
      "name": "python3"
    },
    "language_info": {
      "codemirror_mode": {
        "name": "ipython",
        "version": 3
      },
      "file_extension": ".py",
      "mimetype": "text/x-python",
      "name": "python",
      "nbconvert_exporter": "python",
      "pygments_lexer": "ipython3",
      "version": "3.7.3"
    },
    "colab": {
      "name": "Lesson_4_HW.ipynb",
      "provenance": [],
      "collapsed_sections": [],
      "include_colab_link": true
    }
  },
  "cells": [
    {
      "cell_type": "markdown",
      "metadata": {
        "id": "view-in-github",
        "colab_type": "text"
      },
      "source": [
        "<a href=\"https://colab.research.google.com/github/botkin92/Data_analysis_algorithms/blob/lesson_4/Lesson_4_HW.ipynb\" target=\"_parent\"><img src=\"https://colab.research.google.com/assets/colab-badge.svg\" alt=\"Open In Colab\"/></a>"
      ]
    },
    {
      "cell_type": "code",
      "metadata": {
        "id": "u7Xi827dabXb"
      },
      "source": [
        "import matplotlib.pyplot as plt\n",
        "import random\n",
        "\n",
        "from matplotlib.colors import ListedColormap\n",
        "from sklearn import datasets\n",
        "from sklearn.model_selection import train_test_split\n",
        "\n",
        "import numpy as np"
      ],
      "execution_count": 6,
      "outputs": []
    },
    {
      "cell_type": "markdown",
      "source": [
        "Реализация из методички:"
      ],
      "metadata": {
        "id": "68qYacStRv0Y"
      }
    },
    {
      "cell_type": "code",
      "metadata": {
        "id": "Duu45IJUabXi"
      },
      "source": [
        "# Реализуем класс узла\n",
        "\n",
        "class Node:\n",
        "    \n",
        "    def __init__(self, index, t, true_branch, false_branch):\n",
        "        self.index = index  # индекс признака, по которому ведется сравнение с порогом в этом узле\n",
        "        self.t = t  # значение порога\n",
        "        self.true_branch = true_branch  # поддерево, удовлетворяющее условию в узле\n",
        "        self.false_branch = false_branch  # поддерево, не удовлетворяющее условию в узле"
      ],
      "execution_count": 7,
      "outputs": []
    },
    {
      "cell_type": "code",
      "metadata": {
        "id": "QY8oNtakabXl"
      },
      "source": [
        "# И класс терминального узла (листа)\n",
        "\n",
        "class Leaf:\n",
        "    \n",
        "    def __init__(self, data, labels):\n",
        "        self.data = data\n",
        "        self.labels = labels\n",
        "        self.prediction = self.predict()\n",
        "        \n",
        "    def predict(self):\n",
        "        # подсчет количества объектов разных классов\n",
        "        classes = {}  # сформируем словарь \"класс: количество объектов\"\n",
        "        for label in self.labels:\n",
        "            if label not in classes:\n",
        "                classes[label] = 0\n",
        "            classes[label] += 1\n",
        "        #  найдем класс, количество объектов которого будет максимальным в этом листе и вернем его    \n",
        "        prediction = max(classes, key=classes.get)\n",
        "        return prediction        "
      ],
      "execution_count": 8,
      "outputs": []
    },
    {
      "cell_type": "code",
      "metadata": {
        "id": "uBdli3WDabXn"
      },
      "source": [
        "# Расчет критерия Джини\n",
        "\n",
        "def gini(labels):\n",
        "    #  подсчет количества объектов разных классов\n",
        "    classes = {}\n",
        "    for label in labels:\n",
        "        if label not in classes:\n",
        "            classes[label] = 0\n",
        "        classes[label] += 1\n",
        "    \n",
        "    #  расчет критерия\n",
        "    impurity = 1\n",
        "    for label in classes:\n",
        "        p = classes[label] / len(labels)\n",
        "        impurity -= p ** 2\n",
        "        \n",
        "    return impurity"
      ],
      "execution_count": 9,
      "outputs": []
    },
    {
      "cell_type": "code",
      "metadata": {
        "id": "9vvLDhuRabXr"
      },
      "source": [
        "# Расчет качества\n",
        "\n",
        "def quality(left_labels, right_labels, current_gini):\n",
        "\n",
        "    # доля выбоки, ушедшая в левое поддерево\n",
        "    p = float(left_labels.shape[0]) / (left_labels.shape[0] + right_labels.shape[0])\n",
        "    \n",
        "    return current_gini - p * gini(left_labels) - (1 - p) * gini(right_labels)"
      ],
      "execution_count": 10,
      "outputs": []
    },
    {
      "cell_type": "code",
      "metadata": {
        "id": "nhWkphi3abXt"
      },
      "source": [
        "# Разбиение датасета в узле\n",
        "\n",
        "def split(data, labels, index, t):\n",
        "    \n",
        "    left = np.where(data[:, index] <= t)\n",
        "    right = np.where(data[:, index] > t)\n",
        "        \n",
        "    true_data = data[left]\n",
        "    false_data = data[right]\n",
        "    true_labels = labels[left]\n",
        "    false_labels = labels[right]\n",
        "        \n",
        "    return true_data, false_data, true_labels, false_labels"
      ],
      "execution_count": 11,
      "outputs": []
    },
    {
      "cell_type": "code",
      "metadata": {
        "id": "5wi8Fbs_abXw"
      },
      "source": [
        "# Нахождение наилучшего разбиения\n",
        "\n",
        "def find_best_split(data, labels):\n",
        "    \n",
        "    #  обозначим минимальное количество объектов в узле\n",
        "    min_leaf = 5\n",
        "    \n",
        "    current_gini = gini(labels)\n",
        "\n",
        "    best_quality = 0\n",
        "    best_t = None\n",
        "    best_index = None\n",
        "    \n",
        "    n_features = data.shape[1]\n",
        "    \n",
        "    for index in range(n_features):\n",
        "        # будем проверять только уникальные значения признака, исключая повторения\n",
        "        t_values = np.unique([row[index] for row in data])\n",
        "        \n",
        "        for t in t_values:\n",
        "            true_data, false_data, true_labels, false_labels = split(data, labels, index, t)\n",
        "            #  пропускаем разбиения, в которых в узле остается менее 5 объектов\n",
        "            if len(true_data) < min_leaf or len(false_data) < min_leaf:\n",
        "                continue\n",
        "            \n",
        "            current_quality = quality(true_labels, false_labels, current_gini)\n",
        "            \n",
        "            #  выбираем порог, на котором получается максимальный прирост качества\n",
        "            if current_quality > best_quality:\n",
        "                best_quality, best_t, best_index = current_quality, t, index\n",
        "\n",
        "    return best_quality, best_t, best_index"
      ],
      "execution_count": 12,
      "outputs": []
    },
    {
      "cell_type": "code",
      "metadata": {
        "id": "f1__qSXSabXy"
      },
      "source": [
        "# Построение дерева с помощью рекурсивной функции\n",
        "\n",
        "def build_tree(data, labels):\n",
        "\n",
        "    quality, t, index = find_best_split(data, labels)\n",
        "\n",
        "    #  Базовый случай - прекращаем рекурсию, когда нет прироста в качества\n",
        "    if quality == 0:\n",
        "        return Leaf(data, labels)\n",
        "\n",
        "    true_data, false_data, true_labels, false_labels = split(data, labels, index, t)\n",
        "\n",
        "    # Рекурсивно строим два поддерева\n",
        "    true_branch = build_tree(true_data, true_labels)\n",
        "    false_branch = build_tree(false_data, false_labels)\n",
        "\n",
        "    # Возвращаем класс узла со всеми поддеревьями, то есть целого дерева\n",
        "    return Node(index, t, true_branch, false_branch)"
      ],
      "execution_count": 13,
      "outputs": []
    },
    {
      "cell_type": "code",
      "metadata": {
        "id": "F7ruKazCabX3"
      },
      "source": [
        "def classify_object(obj, node):\n",
        "\n",
        "    #  Останавливаем рекурсию, если достигли листа\n",
        "    if isinstance(node, Leaf):\n",
        "        answer = node.prediction\n",
        "        return answer\n",
        "\n",
        "    if obj[node.index] <= node.t:\n",
        "        return classify_object(obj, node.true_branch)\n",
        "    else:\n",
        "        return classify_object(obj, node.false_branch)"
      ],
      "execution_count": 14,
      "outputs": []
    },
    {
      "cell_type": "code",
      "metadata": {
        "id": "SLOdTAqdabX7"
      },
      "source": [
        "def predict(data, tree):\n",
        "    \n",
        "    classes = []\n",
        "    for obj in data:\n",
        "        prediction = classify_object(obj, tree)\n",
        "        classes.append(prediction)\n",
        "    return classes"
      ],
      "execution_count": 15,
      "outputs": []
    },
    {
      "cell_type": "markdown",
      "metadata": {
        "id": "F6gUa-MsHPCR"
      },
      "source": [
        "1. В коде из методички реализуйте один или несколько из критериев останова (количество листьев, количество используемых признаков, глубина дерева и т.д.)"
      ]
    },
    {
      "cell_type": "markdown",
      "metadata": {
        "id": "eZ3Lr-mWMArt"
      },
      "source": [
        "Реализуем ограничение максимальной глубины дерева"
      ]
    },
    {
      "cell_type": "code",
      "metadata": {
        "id": "Ia2RNnTSLYnR"
      },
      "source": [
        "# Построение дерева с помощью рекурсивной функции\n",
        "\n",
        "def build_tree(data, labels, max_depth, cur_depth=0):\n",
        "\n",
        "    if max_depth <= cur_depth:\n",
        "        quality, t, index = find_best_split(data, labels)\n",
        "\n",
        "        #  Базовый случай - прекращаем рекурсию, когда нет прироста в качества\n",
        "        if quality == 0:\n",
        "            return Leaf(data, labels)\n",
        "\n",
        "        true_data, false_data, true_labels, false_labels = split(data, labels, index, t)\n",
        "\n",
        "        # Рекурсивно строим два поддерева\n",
        "        cur_depth += 1\n",
        "        true_branch = build_tree(true_data, true_target, max_depth, cur_depth)\n",
        "        false_branch = build_tree(false_data, false_target, max_depth, cur_depth)\n",
        "\n",
        "        # Возвращаем класс узла со всеми поддеревьями, то есть целого дерева\n",
        "        return Node(index, t, true_branch, false_branch)"
      ],
      "execution_count": 16,
      "outputs": []
    },
    {
      "cell_type": "markdown",
      "metadata": {
        "id": "9iBW_mw_HWfW"
      },
      "source": [
        "2. Реализуйте дерево для задачи регрессии. Возьмите за основу дерево, реализованное в методичке, заменив механизм предсказания в листе на взятие среднего значения по выборке, и критерий Джини на дисперсию значений."
      ]
    },
    {
      "cell_type": "code",
      "metadata": {
        "id": "7kskzUprGS9k"
      },
      "source": [
        "# Реализуем класс узла\n",
        "\n",
        "class Node_reg:\n",
        "    \n",
        "    def __init__(self, index, t, true_branch, false_branch):\n",
        "        self.index = index  # индекс признака, по которому ведется сравнение с порогом в этом узле\n",
        "        self.t = t  # значение порога\n",
        "        self.true_branch = true_branch  # поддерево, удовлетворяющее условию в узле\n",
        "        self.false_branch = false_branch  # поддерево, не удовлетворяющее условию в узле"
      ],
      "execution_count": 17,
      "outputs": []
    },
    {
      "cell_type": "code",
      "metadata": {
        "id": "y63borqKGS9l"
      },
      "source": [
        "# И целевое значение терминального узла (листа)\n",
        "\n",
        "class Leaf_reg:\n",
        "    \n",
        "    def __init__(self, data, target):\n",
        "        self.data = data # значения признаков\n",
        "        self.target = target  # y_true\n",
        "        self.prediction = self.predict()  # y_pred\n",
        "        \n",
        "    def predict(self):\n",
        "        prediction = np.mean(target)\n",
        "        return prediction"
      ],
      "execution_count": 18,
      "outputs": []
    },
    {
      "cell_type": "code",
      "metadata": {
        "id": "ux4yGvU-VPRo"
      },
      "source": [
        "# Расчет критерия для регрессии\n",
        "\n",
        "def dispers(target):  # np.var(target)\n",
        "    mean_target = np.mean(target)\n",
        "    criterion = np.sum((x - mean_target) ** 2 for x in target) / target.shape[0] \n",
        "    return criterion\n"
      ],
      "execution_count": 19,
      "outputs": []
    },
    {
      "cell_type": "code",
      "metadata": {
        "id": "29Bc01uPGS9l"
      },
      "source": [
        "# Расчет качества\n",
        "\n",
        "def quality_reg(left_target, right_target, current_criter):\n",
        "\n",
        "    # доля выбоки, ушедшая в левое поддерево\n",
        "    p = float(left_target.shape[0]) / (left_target.shape[0] + right_target.shape[0])\n",
        "    \n",
        "    return current_criter - p * dispers(left_target) - (1 - p) * dispers(right_target)"
      ],
      "execution_count": 20,
      "outputs": []
    },
    {
      "cell_type": "code",
      "metadata": {
        "id": "lqZFCj6mGS9m"
      },
      "source": [
        "# Разбиение датасета в узле\n",
        "\n",
        "def split_reg(data, target, index, t):\n",
        "    \n",
        "    left = np.where(data[:, index] <= t)\n",
        "    right = np.where(data[:, index] > t)\n",
        "        \n",
        "    true_data = data[left]\n",
        "    false_data = data[right]\n",
        "    true_target = target[left]\n",
        "    false_target = target[right]\n",
        "        \n",
        "    return true_data, false_data, true_target, false_target"
      ],
      "execution_count": 21,
      "outputs": []
    },
    {
      "cell_type": "code",
      "metadata": {
        "id": "VEO6tll2GS9m"
      },
      "source": [
        "# Нахождение наилучшего разбиения\n",
        "\n",
        "def find_best_split_reg(data, target):\n",
        "    \n",
        "    #  обозначим минимальное количество объектов в узле\n",
        "    min_leaf = 5\n",
        "    \n",
        "    current_criter = dispers(target)\n",
        "\n",
        "    best_quality = 0\n",
        "    best_t = None\n",
        "    best_index = None\n",
        "    \n",
        "    n_features = data.shape[1]\n",
        "    \n",
        "    for index in range(n_features):\n",
        "        # будем проверять только уникальные значения признака, исключая повторения\n",
        "        t_values = np.unique([row[index] for row in data])\n",
        "        \n",
        "        for t in t_values:\n",
        "            true_data, false_data, true_target, false_target = split_reg(data, target, index, t)\n",
        "            #  пропускаем разбиения, в которых в узле остается менее 5 объектов\n",
        "            if len(true_data) < min_leaf or len(false_data) < min_leaf:\n",
        "                continue\n",
        "            \n",
        "            current_quality = quality_reg(true_target, false_target, current_criter)\n",
        "            \n",
        "            #  выбираем порог, на котором получается максимальный прирост качества\n",
        "            if current_quality > best_quality:\n",
        "                best_quality, best_t, best_index = current_quality, t, index\n",
        "\n",
        "    return best_quality, best_t, best_index"
      ],
      "execution_count": 22,
      "outputs": []
    },
    {
      "cell_type": "code",
      "metadata": {
        "id": "Zzp2Uqq2nsDS"
      },
      "source": [
        "# Построение дерева с помощью рекурсивной функции\n",
        "\n",
        "def build_tree_reg(data, target): # , max_depth, cur_depth=0):\n",
        "\n",
        "    quality, t, index = find_best_split_reg(data, target)\n",
        "\n",
        "    #  Базовый случай - прекращаем рекурсию, когда нет прироста в качества\n",
        "    if quality == 0:\n",
        "        return Leaf_reg(data, target)\n",
        "\n",
        "    true_data, false_data, true_target, false_target = split_reg(data, target, index, t)\n",
        "\n",
        "    # Рекурсивно строим два поддерева с условием\n",
        "    # if max_depth <= cur_depth:\n",
        "    #     cur_depth += 1\n",
        "    true_branch = build_tree_reg(true_data, true_target) #, max_depth, cur_depth)\n",
        "    false_branch = build_tree_reg(false_data, false_target) #, max_depth, cur_depth)\n",
        "        \n",
        "    # Возвращаем класс узла со всеми поддеревьями, то есть целого дерева\n",
        "    return Node_reg(index, t, true_branch, false_branch)"
      ],
      "execution_count": 23,
      "outputs": []
    },
    {
      "cell_type": "code",
      "metadata": {
        "id": "7uJ7Xp1zw5MI"
      },
      "source": [
        "# Проход объекта по дереву для его классификации\n",
        "\n",
        "def classify_object(obj, node):\n",
        "\n",
        "    #  Останавливаем рекурсию, если достигли листа\n",
        "    if isinstance(node, Leaf_reg): # проверка текущий узел это лист?\n",
        "        answer = node.prediction # считаем прогноз для листа\n",
        "        return answer\n",
        "\n",
        "    if obj[node.index] <= node.t: # если значение признака меньше порога t\n",
        "        return classify_object(obj, node.true_branch) # рекурсия: отправляем объект в true-ветку\n",
        "    else:\n",
        "        return classify_object(obj, node.false_branch) # рекурсия: отправляем объект в false-ветку"
      ],
      "execution_count": 24,
      "outputs": []
    },
    {
      "cell_type": "code",
      "metadata": {
        "id": "h1w06Etqw5MQ"
      },
      "source": [
        "# Предсказание деревом для всего датасета\n",
        "\n",
        "def predict(data, tree):\n",
        "    \n",
        "    classes = []\n",
        "    for obj in data:\n",
        "        prediction = classify_object(obj, tree) # определяем ветки для объектов\n",
        "        classes.append(prediction)\n",
        "    return classes"
      ],
      "execution_count": 25,
      "outputs": []
    },
    {
      "cell_type": "code",
      "metadata": {
        "id": "j7wxwJDzOdNw"
      },
      "source": [
        "data, target = datasets.make_regression(n_samples=100, n_features=2)"
      ],
      "execution_count": 26,
      "outputs": []
    },
    {
      "cell_type": "code",
      "metadata": {
        "id": "aKcksxwYmIn_"
      },
      "source": [
        "# разделим сгенерированные данные на две выборки: тренировочную и тестовую\n",
        "X_train, X_test, y_train, y_test = train_test_split(data, target, test_size=0.3, random_state=10)"
      ],
      "execution_count": 27,
      "outputs": []
    },
    {
      "cell_type": "code",
      "metadata": {
        "colab": {
          "base_uri": "https://localhost:8080/",
          "height": 761
        },
        "id": "Pt0WGfGF_Uti",
        "outputId": "f631da86-618f-48a2-d84c-68fcfd772a15"
      },
      "source": [
        "# визуализируем сгенерированные данные\n",
        "plt.scatter(X_train[:,0], X_train[:,1])\n",
        "plt.scatter(X_test[:,0], X_test[:,1])\n",
        "plt.show()\n",
        "\n",
        "plt.scatter(X_train[:,0], y_train)\n",
        "plt.scatter(X_test[:,0], y_test)\n",
        "plt.show()\n",
        "\n",
        "plt.scatter(X_train[:,1], y_train, color='orange')\n",
        "plt.scatter(X_test[:,1], y_test, color='red')\n",
        "plt.show()"
      ],
      "execution_count": 28,
      "outputs": [
        {
          "output_type": "display_data",
          "data": {
            "image/png": "[encoded data removed]",
            "text/plain": [
              "<Figure size 432x288 with 1 Axes>"
            ]
          },
          "metadata": {
            "needs_background": "light"
          }
        },
        {
          "output_type": "display_data",
          "data": {
            "image/png": "[encoded data removed]",
            "text/plain": [
              "<Figure size 432x288 with 1 Axes>"
            ]
          },
          "metadata": {
            "needs_background": "light"
          }
        },
        {
          "output_type": "display_data",
          "data": {
            "image/png": "[encoded data removed]",
            "text/plain": [
              "<Figure size 432x288 with 1 Axes>"
            ]
          },
          "metadata": {
            "needs_background": "light"
          }
        }
      ]
    },
    {
      "cell_type": "code",
      "metadata": {
        "id": "tj0M5O9GnPMv",
        "colab": {
          "base_uri": "https://localhost:8080/"
        },
        "outputId": "25f7899a-7e72-4b65-bb16-bd6d2cab0405"
      },
      "source": [
        "# Построим дерево по обучающей выборке\n",
        "my_tree2 = build_tree_reg(X_train, y_train) #, 4)\n",
        "# print(my_tree2)\n",
        "# display(my_tree2.index, my_tree2.t, my_tree2.true_branch , my_tree2.false_branch)"
      ],
      "execution_count": 29,
      "outputs": [
        {
          "output_type": "stream",
          "name": "stderr",
          "text": [
            "/usr/local/lib/python3.7/dist-packages/ipykernel_launcher.py:5: DeprecationWarning: Calling np.sum(generator) is deprecated, and in the future will give a different result. Use np.sum(np.fromiter(generator)) or the python sum builtin instead.\n",
            "  \"\"\"\n"
          ]
        }
      ]
    },
    {
      "cell_type": "code",
      "metadata": {
        "colab": {
          "base_uri": "https://localhost:8080/"
        },
        "id": "ubB1RoCDtlrR",
        "outputId": "54cf7db0-9f82-4ad6-d1e7-5230eaf6b359"
      },
      "source": [
        "# Напечатаем ход нашего дерева\n",
        "def print_tree_reg(Node_reg, spacing=\"\"):\n",
        "\n",
        "    # Если лист, то выводим его прогноз\n",
        "    if isinstance(Node_reg, Leaf_reg):\n",
        "        print(spacing + \"Прогноз:\", Node_reg.prediction)\n",
        "        return\n",
        "\n",
        "    # Выведем значение индекса и порога на этом узле\n",
        "    print(spacing + 'Индекс', str(Node_reg.index))\n",
        "    print(spacing + 'Порог', str(Node_reg.t))\n",
        "\n",
        "    # Рекурсионный вызов функции на положительном поддереве\n",
        "    print (spacing + '--> True:')\n",
        "    print_tree_reg(Node_reg.true_branch, spacing + \"  \")\n",
        "\n",
        "    # Рекурсионный вызов функции на отрицательном поддереве\n",
        "    print (spacing + '--> False:')\n",
        "    print_tree_reg(Node_reg.false_branch, spacing + \"  \")\n",
        "    \n",
        "print_tree_reg(my_tree2)"
      ],
      "execution_count": 30,
      "outputs": [
        {
          "output_type": "stream",
          "name": "stdout",
          "text": [
            "Индекс 0\n",
            "Порог 0.1842806458853537\n",
            "--> True:\n",
            "  Индекс 0\n",
            "  Порог -0.8947909428048031\n",
            "  --> True:\n",
            "    Индекс 0\n",
            "    Порог -1.2874467229216902\n",
            "    --> True:\n",
            "      Прогноз: -4.206280310366197\n",
            "    --> False:\n",
            "      Прогноз: -4.206280310366197\n",
            "  --> False:\n",
            "    Индекс 0\n",
            "    Порог -0.38464741647776723\n",
            "    --> True:\n",
            "      Индекс 1\n",
            "      Порог 0.6489059041951224\n",
            "      --> True:\n",
            "        Прогноз: -4.206280310366197\n",
            "      --> False:\n",
            "        Прогноз: -4.206280310366197\n",
            "    --> False:\n",
            "      Индекс 1\n",
            "      Порог 0.16890235168002937\n",
            "      --> True:\n",
            "        Прогноз: -4.206280310366197\n",
            "      --> False:\n",
            "        Прогноз: -4.206280310366197\n",
            "--> False:\n",
            "  Индекс 0\n",
            "  Порог 0.7459863488292642\n",
            "  --> True:\n",
            "    Индекс 1\n",
            "    Порог 0.1380649245021415\n",
            "    --> True:\n",
            "      Прогноз: -4.206280310366197\n",
            "    --> False:\n",
            "      Прогноз: -4.206280310366197\n",
            "  --> False:\n",
            "    Индекс 0\n",
            "    Порог 1.0490109859507488\n",
            "    --> True:\n",
            "      Прогноз: -4.206280310366197\n",
            "    --> False:\n",
            "      Прогноз: -4.206280310366197\n"
          ]
        }
      ]
    },
    {
      "cell_type": "code",
      "metadata": {
        "id": "CyvzFQp3abYI",
        "colab": {
          "base_uri": "https://localhost:8080/"
        },
        "outputId": "b102c8e7-d119-4932-a82e-e377da3cc849"
      },
      "source": [
        "# Получим ответы для обучающей выборки \n",
        "train_answers = predict(X_train, my_tree2)\n",
        "train_answers[:5]"
      ],
      "execution_count": 31,
      "outputs": [
        {
          "output_type": "execute_result",
          "data": {
            "text/plain": [
              "[-4.206280310366197,\n",
              " -4.206280310366197,\n",
              " -4.206280310366197,\n",
              " -4.206280310366197,\n",
              " -4.206280310366197]"
            ]
          },
          "metadata": {},
          "execution_count": 31
        }
      ]
    },
    {
      "cell_type": "code",
      "metadata": {
        "id": "Rl6IyN8yabYN",
        "colab": {
          "base_uri": "https://localhost:8080/"
        },
        "outputId": "31a7629b-6f6b-4bc2-ee6c-7c45a6783e36"
      },
      "source": [
        "# И получим ответы для тестовой выборки\n",
        "answers = predict(X_test, my_tree2)\n",
        "answers[:5]"
      ],
      "execution_count": 32,
      "outputs": [
        {
          "output_type": "execute_result",
          "data": {
            "text/plain": [
              "[-4.206280310366197,\n",
              " -4.206280310366197,\n",
              " -4.206280310366197,\n",
              " -4.206280310366197,\n",
              " -4.206280310366197]"
            ]
          },
          "metadata": {},
          "execution_count": 32
        }
      ]
    }
  ]
}